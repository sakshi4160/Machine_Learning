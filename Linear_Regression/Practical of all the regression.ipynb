{
 "cells": [
  {
   "cell_type": "code",
   "execution_count": null,
   "id": "7ff0e48f",
   "metadata": {},
   "outputs": [],
   "source": [
    "1. data ingestion\n",
    "2. eda\n",
    "3. preprocessing or fe\n",
    "4. model\n",
    "5. evalution"
   ]
  },
  {
   "cell_type": "code",
   "execution_count": null,
   "id": "3fc5a264",
   "metadata": {},
   "outputs": [],
   "source": [
    "#SIMPLE LINEAR REGRESSION"
   ]
  },
  {
   "cell_type": "code",
   "execution_count": 1,
   "id": "58fd8ab4",
   "metadata": {},
   "outputs": [],
   "source": [
    "import pandas as pd\n",
    "\n",
    "df=pd.read_csv(\"placement.csv\")"
   ]
  },
  {
   "cell_type": "code",
   "execution_count": 2,
   "id": "d475b1d0",
   "metadata": {},
   "outputs": [
    {
     "data": {
      "text/html": [
       "<div>\n",
       "<style scoped>\n",
       "    .dataframe tbody tr th:only-of-type {\n",
       "        vertical-align: middle;\n",
       "    }\n",
       "\n",
       "    .dataframe tbody tr th {\n",
       "        vertical-align: top;\n",
       "    }\n",
       "\n",
       "    .dataframe thead th {\n",
       "        text-align: right;\n",
       "    }\n",
       "</style>\n",
       "<table border=\"1\" class=\"dataframe\">\n",
       "  <thead>\n",
       "    <tr style=\"text-align: right;\">\n",
       "      <th></th>\n",
       "      <th>cgpa</th>\n",
       "      <th>package</th>\n",
       "    </tr>\n",
       "  </thead>\n",
       "  <tbody>\n",
       "    <tr>\n",
       "      <th>0</th>\n",
       "      <td>6.89</td>\n",
       "      <td>3.26</td>\n",
       "    </tr>\n",
       "    <tr>\n",
       "      <th>1</th>\n",
       "      <td>5.12</td>\n",
       "      <td>1.98</td>\n",
       "    </tr>\n",
       "    <tr>\n",
       "      <th>2</th>\n",
       "      <td>7.82</td>\n",
       "      <td>3.25</td>\n",
       "    </tr>\n",
       "    <tr>\n",
       "      <th>3</th>\n",
       "      <td>7.42</td>\n",
       "      <td>3.67</td>\n",
       "    </tr>\n",
       "    <tr>\n",
       "      <th>4</th>\n",
       "      <td>6.94</td>\n",
       "      <td>3.57</td>\n",
       "    </tr>\n",
       "    <tr>\n",
       "      <th>...</th>\n",
       "      <td>...</td>\n",
       "      <td>...</td>\n",
       "    </tr>\n",
       "    <tr>\n",
       "      <th>195</th>\n",
       "      <td>6.93</td>\n",
       "      <td>2.46</td>\n",
       "    </tr>\n",
       "    <tr>\n",
       "      <th>196</th>\n",
       "      <td>5.89</td>\n",
       "      <td>2.57</td>\n",
       "    </tr>\n",
       "    <tr>\n",
       "      <th>197</th>\n",
       "      <td>7.21</td>\n",
       "      <td>3.24</td>\n",
       "    </tr>\n",
       "    <tr>\n",
       "      <th>198</th>\n",
       "      <td>7.63</td>\n",
       "      <td>3.96</td>\n",
       "    </tr>\n",
       "    <tr>\n",
       "      <th>199</th>\n",
       "      <td>6.22</td>\n",
       "      <td>2.33</td>\n",
       "    </tr>\n",
       "  </tbody>\n",
       "</table>\n",
       "<p>200 rows × 2 columns</p>\n",
       "</div>"
      ],
      "text/plain": [
       "     cgpa  package\n",
       "0    6.89     3.26\n",
       "1    5.12     1.98\n",
       "2    7.82     3.25\n",
       "3    7.42     3.67\n",
       "4    6.94     3.57\n",
       "..    ...      ...\n",
       "195  6.93     2.46\n",
       "196  5.89     2.57\n",
       "197  7.21     3.24\n",
       "198  7.63     3.96\n",
       "199  6.22     2.33\n",
       "\n",
       "[200 rows x 2 columns]"
      ]
     },
     "execution_count": 2,
     "metadata": {},
     "output_type": "execute_result"
    }
   ],
   "source": [
    "df"
   ]
  },
  {
   "cell_type": "code",
   "execution_count": 3,
   "id": "6d6ccfee",
   "metadata": {},
   "outputs": [
    {
     "data": {
      "text/html": [
       "<div>\n",
       "<style scoped>\n",
       "    .dataframe tbody tr th:only-of-type {\n",
       "        vertical-align: middle;\n",
       "    }\n",
       "\n",
       "    .dataframe tbody tr th {\n",
       "        vertical-align: top;\n",
       "    }\n",
       "\n",
       "    .dataframe thead th {\n",
       "        text-align: right;\n",
       "    }\n",
       "</style>\n",
       "<table border=\"1\" class=\"dataframe\">\n",
       "  <thead>\n",
       "    <tr style=\"text-align: right;\">\n",
       "      <th></th>\n",
       "      <th>cgpa</th>\n",
       "      <th>package</th>\n",
       "    </tr>\n",
       "  </thead>\n",
       "  <tbody>\n",
       "    <tr>\n",
       "      <th>0</th>\n",
       "      <td>6.89</td>\n",
       "      <td>3.26</td>\n",
       "    </tr>\n",
       "    <tr>\n",
       "      <th>1</th>\n",
       "      <td>5.12</td>\n",
       "      <td>1.98</td>\n",
       "    </tr>\n",
       "    <tr>\n",
       "      <th>2</th>\n",
       "      <td>7.82</td>\n",
       "      <td>3.25</td>\n",
       "    </tr>\n",
       "    <tr>\n",
       "      <th>3</th>\n",
       "      <td>7.42</td>\n",
       "      <td>3.67</td>\n",
       "    </tr>\n",
       "    <tr>\n",
       "      <th>4</th>\n",
       "      <td>6.94</td>\n",
       "      <td>3.57</td>\n",
       "    </tr>\n",
       "  </tbody>\n",
       "</table>\n",
       "</div>"
      ],
      "text/plain": [
       "   cgpa  package\n",
       "0  6.89     3.26\n",
       "1  5.12     1.98\n",
       "2  7.82     3.25\n",
       "3  7.42     3.67\n",
       "4  6.94     3.57"
      ]
     },
     "execution_count": 3,
     "metadata": {},
     "output_type": "execute_result"
    }
   ],
   "source": [
    "df.head(5)"
   ]
  },
  {
   "cell_type": "code",
   "execution_count": 4,
   "id": "6dd84896",
   "metadata": {},
   "outputs": [
    {
     "data": {
      "text/html": [
       "<div>\n",
       "<style scoped>\n",
       "    .dataframe tbody tr th:only-of-type {\n",
       "        vertical-align: middle;\n",
       "    }\n",
       "\n",
       "    .dataframe tbody tr th {\n",
       "        vertical-align: top;\n",
       "    }\n",
       "\n",
       "    .dataframe thead th {\n",
       "        text-align: right;\n",
       "    }\n",
       "</style>\n",
       "<table border=\"1\" class=\"dataframe\">\n",
       "  <thead>\n",
       "    <tr style=\"text-align: right;\">\n",
       "      <th></th>\n",
       "      <th>cgpa</th>\n",
       "      <th>package</th>\n",
       "    </tr>\n",
       "  </thead>\n",
       "  <tbody>\n",
       "    <tr>\n",
       "      <th>195</th>\n",
       "      <td>6.93</td>\n",
       "      <td>2.46</td>\n",
       "    </tr>\n",
       "    <tr>\n",
       "      <th>196</th>\n",
       "      <td>5.89</td>\n",
       "      <td>2.57</td>\n",
       "    </tr>\n",
       "    <tr>\n",
       "      <th>197</th>\n",
       "      <td>7.21</td>\n",
       "      <td>3.24</td>\n",
       "    </tr>\n",
       "    <tr>\n",
       "      <th>198</th>\n",
       "      <td>7.63</td>\n",
       "      <td>3.96</td>\n",
       "    </tr>\n",
       "    <tr>\n",
       "      <th>199</th>\n",
       "      <td>6.22</td>\n",
       "      <td>2.33</td>\n",
       "    </tr>\n",
       "  </tbody>\n",
       "</table>\n",
       "</div>"
      ],
      "text/plain": [
       "     cgpa  package\n",
       "195  6.93     2.46\n",
       "196  5.89     2.57\n",
       "197  7.21     3.24\n",
       "198  7.63     3.96\n",
       "199  6.22     2.33"
      ]
     },
     "execution_count": 4,
     "metadata": {},
     "output_type": "execute_result"
    }
   ],
   "source": [
    "df.tail(5)"
   ]
  },
  {
   "cell_type": "code",
   "execution_count": 5,
   "id": "be69b07c",
   "metadata": {},
   "outputs": [
    {
     "data": {
      "text/plain": [
       "Text(0, 0.5, 'package')"
      ]
     },
     "execution_count": 5,
     "metadata": {},
     "output_type": "execute_result"
    },
    {
     "data": {
      "image/png": "[encoded data removed]",
      "text/plain": [
       "<Figure size 432x288 with 1 Axes>"
      ]
     },
     "metadata": {
      "needs_background": "light"
     },
     "output_type": "display_data"
    }
   ],
   "source": [
    "import matplotlib.pyplot as plt\n",
    "plt.scatter(df[\"cgpa\"],df[\"package\"])\n",
    "plt.xlabel(\"CGPA\")\n",
    "plt.ylabel(\"package\")"
   ]
  },
  {
   "cell_type": "code",
   "execution_count": 6,
   "id": "5143d28c",
   "metadata": {},
   "outputs": [],
   "source": [
    "#HERE WE HAVE LINEAR RELATIONSHIP Of DATA, SO WE CAN APPLY LINEAR REGRESSION"
   ]
  },
  {
   "cell_type": "code",
   "execution_count": 7,
   "id": "4ae5571f",
   "metadata": {},
   "outputs": [],
   "source": [
    "#LET'S SEPRATE X AND Y"
   ]
  },
  {
   "cell_type": "code",
   "execution_count": 8,
   "id": "25f11933",
   "metadata": {},
   "outputs": [],
   "source": [
    "X=df.iloc[ :,0:1]\n",
    "y=df.iloc[ :,-1]"
   ]
  },
  {
   "cell_type": "code",
   "execution_count": 9,
   "id": "0be3d2d3",
   "metadata": {},
   "outputs": [
    {
     "data": {
      "text/html": [
       "<div>\n",
       "<style scoped>\n",
       "    .dataframe tbody tr th:only-of-type {\n",
       "        vertical-align: middle;\n",
       "    }\n",
       "\n",
       "    .dataframe tbody tr th {\n",
       "        vertical-align: top;\n",
       "    }\n",
       "\n",
       "    .dataframe thead th {\n",
       "        text-align: right;\n",
       "    }\n",
       "</style>\n",
       "<table border=\"1\" class=\"dataframe\">\n",
       "  <thead>\n",
       "    <tr style=\"text-align: right;\">\n",
       "      <th></th>\n",
       "      <th>cgpa</th>\n",
       "    </tr>\n",
       "  </thead>\n",
       "  <tbody>\n",
       "    <tr>\n",
       "      <th>0</th>\n",
       "      <td>6.89</td>\n",
       "    </tr>\n",
       "    <tr>\n",
       "      <th>1</th>\n",
       "      <td>5.12</td>\n",
       "    </tr>\n",
       "    <tr>\n",
       "      <th>2</th>\n",
       "      <td>7.82</td>\n",
       "    </tr>\n",
       "    <tr>\n",
       "      <th>3</th>\n",
       "      <td>7.42</td>\n",
       "    </tr>\n",
       "    <tr>\n",
       "      <th>4</th>\n",
       "      <td>6.94</td>\n",
       "    </tr>\n",
       "    <tr>\n",
       "      <th>...</th>\n",
       "      <td>...</td>\n",
       "    </tr>\n",
       "    <tr>\n",
       "      <th>195</th>\n",
       "      <td>6.93</td>\n",
       "    </tr>\n",
       "    <tr>\n",
       "      <th>196</th>\n",
       "      <td>5.89</td>\n",
       "    </tr>\n",
       "    <tr>\n",
       "      <th>197</th>\n",
       "      <td>7.21</td>\n",
       "    </tr>\n",
       "    <tr>\n",
       "      <th>198</th>\n",
       "      <td>7.63</td>\n",
       "    </tr>\n",
       "    <tr>\n",
       "      <th>199</th>\n",
       "      <td>6.22</td>\n",
       "    </tr>\n",
       "  </tbody>\n",
       "</table>\n",
       "<p>200 rows × 1 columns</p>\n",
       "</div>"
      ],
      "text/plain": [
       "     cgpa\n",
       "0    6.89\n",
       "1    5.12\n",
       "2    7.82\n",
       "3    7.42\n",
       "4    6.94\n",
       "..    ...\n",
       "195  6.93\n",
       "196  5.89\n",
       "197  7.21\n",
       "198  7.63\n",
       "199  6.22\n",
       "\n",
       "[200 rows x 1 columns]"
      ]
     },
     "execution_count": 9,
     "metadata": {},
     "output_type": "execute_result"
    }
   ],
   "source": [
    "X"
   ]
  },
  {
   "cell_type": "code",
   "execution_count": 10,
   "id": "5add765a",
   "metadata": {},
   "outputs": [
    {
     "data": {
      "text/plain": [
       "0      3.26\n",
       "1      1.98\n",
       "2      3.25\n",
       "3      3.67\n",
       "4      3.57\n",
       "       ... \n",
       "195    2.46\n",
       "196    2.57\n",
       "197    3.24\n",
       "198    3.96\n",
       "199    2.33\n",
       "Name: package, Length: 200, dtype: float64"
      ]
     },
     "execution_count": 10,
     "metadata": {},
     "output_type": "execute_result"
    }
   ],
   "source": [
    "y"
   ]
  },
  {
   "cell_type": "code",
   "execution_count": 11,
   "id": "48197664",
   "metadata": {},
   "outputs": [],
   "source": [
    "# seprate the data into dependent and independent features"
   ]
  },
  {
   "cell_type": "code",
   "execution_count": 12,
   "id": "a0766c6a",
   "metadata": {},
   "outputs": [],
   "source": [
    "X=df.iloc[ :,0:1]\n",
    "y=df.iloc[ :,-1]"
   ]
  },
  {
   "cell_type": "code",
   "execution_count": 13,
   "id": "46cc09d1",
   "metadata": {},
   "outputs": [],
   "source": [
    "#ALWAYS SPLIT THE DATA INTO TRAIN AND TEST"
   ]
  },
  {
   "cell_type": "code",
   "execution_count": 14,
   "id": "e878ebf2",
   "metadata": {},
   "outputs": [],
   "source": [
    "from sklearn.model_selection import train_test_split\n"
   ]
  },
  {
   "cell_type": "code",
   "execution_count": 15,
   "id": "61565cd5",
   "metadata": {},
   "outputs": [],
   "source": [
    "# random sampling"
   ]
  },
  {
   "cell_type": "code",
   "execution_count": 16,
   "id": "a911edcd",
   "metadata": {},
   "outputs": [],
   "source": [
    "X_train, X_test, y_train, y_test = train_test_split(X,y, test_size=0.15,random_state=42)"
   ]
  },
  {
   "cell_type": "code",
   "execution_count": 17,
   "id": "19913297",
   "metadata": {},
   "outputs": [
    {
     "data": {
      "text/html": [
       "<div>\n",
       "<style scoped>\n",
       "    .dataframe tbody tr th:only-of-type {\n",
       "        vertical-align: middle;\n",
       "    }\n",
       "\n",
       "    .dataframe tbody tr th {\n",
       "        vertical-align: top;\n",
       "    }\n",
       "\n",
       "    .dataframe thead th {\n",
       "        text-align: right;\n",
       "    }\n",
       "</style>\n",
       "<table border=\"1\" class=\"dataframe\">\n",
       "  <thead>\n",
       "    <tr style=\"text-align: right;\">\n",
       "      <th></th>\n",
       "      <th>cgpa</th>\n",
       "    </tr>\n",
       "  </thead>\n",
       "  <tbody>\n",
       "    <tr>\n",
       "      <th>9</th>\n",
       "      <td>8.31</td>\n",
       "    </tr>\n",
       "    <tr>\n",
       "      <th>18</th>\n",
       "      <td>6.94</td>\n",
       "    </tr>\n",
       "    <tr>\n",
       "      <th>55</th>\n",
       "      <td>8.20</td>\n",
       "    </tr>\n",
       "    <tr>\n",
       "      <th>75</th>\n",
       "      <td>6.97</td>\n",
       "    </tr>\n",
       "    <tr>\n",
       "      <th>150</th>\n",
       "      <td>6.30</td>\n",
       "    </tr>\n",
       "    <tr>\n",
       "      <th>...</th>\n",
       "      <td>...</td>\n",
       "    </tr>\n",
       "    <tr>\n",
       "      <th>106</th>\n",
       "      <td>6.13</td>\n",
       "    </tr>\n",
       "    <tr>\n",
       "      <th>14</th>\n",
       "      <td>7.73</td>\n",
       "    </tr>\n",
       "    <tr>\n",
       "      <th>92</th>\n",
       "      <td>7.90</td>\n",
       "    </tr>\n",
       "    <tr>\n",
       "      <th>179</th>\n",
       "      <td>7.14</td>\n",
       "    </tr>\n",
       "    <tr>\n",
       "      <th>102</th>\n",
       "      <td>5.13</td>\n",
       "    </tr>\n",
       "  </tbody>\n",
       "</table>\n",
       "<p>170 rows × 1 columns</p>\n",
       "</div>"
      ],
      "text/plain": [
       "     cgpa\n",
       "9    8.31\n",
       "18   6.94\n",
       "55   8.20\n",
       "75   6.97\n",
       "150  6.30\n",
       "..    ...\n",
       "106  6.13\n",
       "14   7.73\n",
       "92   7.90\n",
       "179  7.14\n",
       "102  5.13\n",
       "\n",
       "[170 rows x 1 columns]"
      ]
     },
     "execution_count": 17,
     "metadata": {},
     "output_type": "execute_result"
    }
   ],
   "source": [
    "X_train"
   ]
  },
  {
   "cell_type": "code",
   "execution_count": 18,
   "id": "2e631ff6",
   "metadata": {},
   "outputs": [
    {
     "data": {
      "text/plain": [
       "(170, 1)"
      ]
     },
     "execution_count": 18,
     "metadata": {},
     "output_type": "execute_result"
    }
   ],
   "source": [
    "X_train.shape"
   ]
  },
  {
   "cell_type": "code",
   "execution_count": 19,
   "id": "c1786f5a",
   "metadata": {},
   "outputs": [
    {
     "data": {
      "text/plain": [
       "(170,)"
      ]
     },
     "execution_count": 19,
     "metadata": {},
     "output_type": "execute_result"
    }
   ],
   "source": [
    "y_train.shape"
   ]
  },
  {
   "cell_type": "code",
   "execution_count": 20,
   "id": "dfef46b9",
   "metadata": {},
   "outputs": [
    {
     "data": {
      "text/plain": [
       "(30, 1)"
      ]
     },
     "execution_count": 20,
     "metadata": {},
     "output_type": "execute_result"
    }
   ],
   "source": [
    "X_test.shape"
   ]
  },
  {
   "cell_type": "code",
   "execution_count": 21,
   "id": "11015a60",
   "metadata": {},
   "outputs": [],
   "source": [
    "from sklearn.linear_model import LinearRegression\n",
    "\n",
    "#linear regression class"
   ]
  },
  {
   "cell_type": "code",
   "execution_count": 22,
   "id": "7f5aeb0b",
   "metadata": {},
   "outputs": [],
   "source": [
    "model=LinearRegression()"
   ]
  },
  {
   "cell_type": "code",
   "execution_count": 23,
   "id": "7b4107e2",
   "metadata": {},
   "outputs": [
    {
     "data": {
      "text/plain": [
       "LinearRegression()"
      ]
     },
     "execution_count": 23,
     "metadata": {},
     "output_type": "execute_result"
    }
   ],
   "source": [
    "#let fit the data, everytime we fit the data check the x_train and y_train\n",
    "\n",
    "model.fit(X_train,y_train)"
   ]
  },
  {
   "cell_type": "code",
   "execution_count": 24,
   "id": "1e273758",
   "metadata": {},
   "outputs": [
    {
     "data": {
      "text/plain": [
       "0.7741811633951949"
      ]
     },
     "execution_count": 24,
     "metadata": {},
     "output_type": "execute_result"
    }
   ],
   "source": [
    "model.score(X_train,y_train)\n",
    "\n",
    "#THIS IS R^2 VALUE\n",
    "\n",
    "#IF WE ARE GETTING R^2 VALUE NEAR TO 1 THAT MODEL WILL BE A BEST MODEL"
   ]
  },
  {
   "cell_type": "code",
   "execution_count": 25,
   "id": "a70625ab",
   "metadata": {},
   "outputs": [
    {
     "data": {
      "text/html": [
       "<div>\n",
       "<style scoped>\n",
       "    .dataframe tbody tr th:only-of-type {\n",
       "        vertical-align: middle;\n",
       "    }\n",
       "\n",
       "    .dataframe tbody tr th {\n",
       "        vertical-align: top;\n",
       "    }\n",
       "\n",
       "    .dataframe thead th {\n",
       "        text-align: right;\n",
       "    }\n",
       "</style>\n",
       "<table border=\"1\" class=\"dataframe\">\n",
       "  <thead>\n",
       "    <tr style=\"text-align: right;\">\n",
       "      <th></th>\n",
       "      <th>cgpa</th>\n",
       "    </tr>\n",
       "  </thead>\n",
       "  <tbody>\n",
       "    <tr>\n",
       "      <th>95</th>\n",
       "      <td>6.63</td>\n",
       "    </tr>\n",
       "    <tr>\n",
       "      <th>15</th>\n",
       "      <td>7.25</td>\n",
       "    </tr>\n",
       "    <tr>\n",
       "      <th>30</th>\n",
       "      <td>7.36</td>\n",
       "    </tr>\n",
       "    <tr>\n",
       "      <th>158</th>\n",
       "      <td>5.95</td>\n",
       "    </tr>\n",
       "    <tr>\n",
       "      <th>128</th>\n",
       "      <td>7.93</td>\n",
       "    </tr>\n",
       "    <tr>\n",
       "      <th>115</th>\n",
       "      <td>8.35</td>\n",
       "    </tr>\n",
       "    <tr>\n",
       "      <th>69</th>\n",
       "      <td>7.30</td>\n",
       "    </tr>\n",
       "    <tr>\n",
       "      <th>170</th>\n",
       "      <td>6.22</td>\n",
       "    </tr>\n",
       "    <tr>\n",
       "      <th>174</th>\n",
       "      <td>7.32</td>\n",
       "    </tr>\n",
       "    <tr>\n",
       "      <th>45</th>\n",
       "      <td>7.87</td>\n",
       "    </tr>\n",
       "    <tr>\n",
       "      <th>66</th>\n",
       "      <td>5.11</td>\n",
       "    </tr>\n",
       "    <tr>\n",
       "      <th>182</th>\n",
       "      <td>5.88</td>\n",
       "    </tr>\n",
       "    <tr>\n",
       "      <th>165</th>\n",
       "      <td>8.21</td>\n",
       "    </tr>\n",
       "    <tr>\n",
       "      <th>78</th>\n",
       "      <td>6.59</td>\n",
       "    </tr>\n",
       "    <tr>\n",
       "      <th>186</th>\n",
       "      <td>7.84</td>\n",
       "    </tr>\n",
       "    <tr>\n",
       "      <th>177</th>\n",
       "      <td>7.09</td>\n",
       "    </tr>\n",
       "    <tr>\n",
       "      <th>56</th>\n",
       "      <td>5.84</td>\n",
       "    </tr>\n",
       "    <tr>\n",
       "      <th>152</th>\n",
       "      <td>7.37</td>\n",
       "    </tr>\n",
       "    <tr>\n",
       "      <th>82</th>\n",
       "      <td>5.58</td>\n",
       "    </tr>\n",
       "    <tr>\n",
       "      <th>68</th>\n",
       "      <td>7.56</td>\n",
       "    </tr>\n",
       "    <tr>\n",
       "      <th>124</th>\n",
       "      <td>6.06</td>\n",
       "    </tr>\n",
       "    <tr>\n",
       "      <th>16</th>\n",
       "      <td>6.84</td>\n",
       "    </tr>\n",
       "    <tr>\n",
       "      <th>148</th>\n",
       "      <td>7.57</td>\n",
       "    </tr>\n",
       "    <tr>\n",
       "      <th>93</th>\n",
       "      <td>6.79</td>\n",
       "    </tr>\n",
       "    <tr>\n",
       "      <th>65</th>\n",
       "      <td>7.60</td>\n",
       "    </tr>\n",
       "    <tr>\n",
       "      <th>60</th>\n",
       "      <td>5.61</td>\n",
       "    </tr>\n",
       "    <tr>\n",
       "      <th>84</th>\n",
       "      <td>4.26</td>\n",
       "    </tr>\n",
       "    <tr>\n",
       "      <th>67</th>\n",
       "      <td>6.51</td>\n",
       "    </tr>\n",
       "    <tr>\n",
       "      <th>125</th>\n",
       "      <td>7.33</td>\n",
       "    </tr>\n",
       "    <tr>\n",
       "      <th>132</th>\n",
       "      <td>5.84</td>\n",
       "    </tr>\n",
       "  </tbody>\n",
       "</table>\n",
       "</div>"
      ],
      "text/plain": [
       "     cgpa\n",
       "95   6.63\n",
       "15   7.25\n",
       "30   7.36\n",
       "158  5.95\n",
       "128  7.93\n",
       "115  8.35\n",
       "69   7.30\n",
       "170  6.22\n",
       "174  7.32\n",
       "45   7.87\n",
       "66   5.11\n",
       "182  5.88\n",
       "165  8.21\n",
       "78   6.59\n",
       "186  7.84\n",
       "177  7.09\n",
       "56   5.84\n",
       "152  7.37\n",
       "82   5.58\n",
       "68   7.56\n",
       "124  6.06\n",
       "16   6.84\n",
       "148  7.57\n",
       "93   6.79\n",
       "65   7.60\n",
       "60   5.61\n",
       "84   4.26\n",
       "67   6.51\n",
       "125  7.33\n",
       "132  5.84"
      ]
     },
     "execution_count": 25,
     "metadata": {},
     "output_type": "execute_result"
    }
   ],
   "source": [
    "X_test"
   ]
  },
  {
   "cell_type": "code",
   "execution_count": 26,
   "id": "609b3771",
   "metadata": {},
   "outputs": [],
   "source": [
    "y_pred=model.predict(X_test)"
   ]
  },
  {
   "cell_type": "code",
   "execution_count": 27,
   "id": "890c64d8",
   "metadata": {},
   "outputs": [
    {
     "data": {
      "text/plain": [
       "95     2.79\n",
       "15     3.23\n",
       "30     3.26\n",
       "158    3.04\n",
       "128    3.34\n",
       "115    4.21\n",
       "69     2.94\n",
       "170    2.87\n",
       "174    2.99\n",
       "45     3.58\n",
       "66     1.63\n",
       "182    2.08\n",
       "165    4.08\n",
       "78     2.21\n",
       "186    3.47\n",
       "177    3.64\n",
       "56     2.74\n",
       "152    3.08\n",
       "82     2.17\n",
       "68     2.99\n",
       "124    2.31\n",
       "16     2.35\n",
       "148    3.40\n",
       "93     3.08\n",
       "65     3.81\n",
       "60     2.19\n",
       "84     1.53\n",
       "67     2.89\n",
       "125    3.16\n",
       "132    2.48\n",
       "Name: package, dtype: float64"
      ]
     },
     "execution_count": 27,
     "metadata": {},
     "output_type": "execute_result"
    }
   ],
   "source": [
    "y_test"
   ]
  },
  {
   "cell_type": "code",
   "execution_count": 28,
   "id": "9e0ee099",
   "metadata": {},
   "outputs": [
    {
     "data": {
      "text/plain": [
       "(170,)"
      ]
     },
     "execution_count": 28,
     "metadata": {},
     "output_type": "execute_result"
    }
   ],
   "source": [
    "model.predict(X_train).shape"
   ]
  },
  {
   "cell_type": "code",
   "execution_count": 29,
   "id": "64e9f6c3",
   "metadata": {},
   "outputs": [],
   "source": [
    "from sklearn.metrics import r2_score"
   ]
  },
  {
   "cell_type": "code",
   "execution_count": 30,
   "id": "1645f857",
   "metadata": {},
   "outputs": [
    {
     "data": {
      "text/plain": [
       "0.7804129897987836"
      ]
     },
     "execution_count": 30,
     "metadata": {},
     "output_type": "execute_result"
    }
   ],
   "source": [
    "r2_score(y_test,y_pred)"
   ]
  },
  {
   "cell_type": "code",
   "execution_count": 31,
   "id": "6d0283ef",
   "metadata": {},
   "outputs": [
    {
     "data": {
      "text/plain": [
       "array([0.56728537])"
      ]
     },
     "execution_count": 31,
     "metadata": {},
     "output_type": "execute_result"
    }
   ],
   "source": [
    "model.coef_"
   ]
  },
  {
   "cell_type": "code",
   "execution_count": 32,
   "id": "7e484567",
   "metadata": {},
   "outputs": [
    {
     "data": {
      "text/plain": [
       "-0.975990235442223"
      ]
     },
     "execution_count": 32,
     "metadata": {},
     "output_type": "execute_result"
    }
   ],
   "source": [
    "model.intercept_"
   ]
  },
  {
   "cell_type": "code",
   "execution_count": 33,
   "id": "5b43de70",
   "metadata": {},
   "outputs": [],
   "source": [
    "# y= 0.56 x + (-0.97)\n",
    "\n",
    "#THIS IS MY MODEL BASICALLY"
   ]
  },
  {
   "cell_type": "code",
   "execution_count": 34,
   "id": "383a2dc4",
   "metadata": {},
   "outputs": [
    {
     "name": "stderr",
     "output_type": "stream",
     "text": [
      "C:\\Users\\91983\\anaconda3\\lib\\site-packages\\sklearn\\base.py:450: UserWarning: X does not have valid feature names, but LinearRegression was fitted with feature names\n",
      "  warnings.warn(\n"
     ]
    },
    {
     "data": {
      "text/plain": [
       "array([3.90266397])"
      ]
     },
     "execution_count": 34,
     "metadata": {},
     "output_type": "execute_result"
    }
   ],
   "source": [
    "model.predict([[8.6]])"
   ]
  },
  {
   "cell_type": "code",
   "execution_count": 35,
   "id": "88f299de",
   "metadata": {},
   "outputs": [
    {
     "name": "stderr",
     "output_type": "stream",
     "text": [
      "C:\\Users\\91983\\anaconda3\\lib\\site-packages\\sklearn\\base.py:450: UserWarning: X does not have valid feature names, but LinearRegression was fitted with feature names\n",
      "  warnings.warn(\n"
     ]
    },
    {
     "data": {
      "text/plain": [
       "array([4.46994934])"
      ]
     },
     "execution_count": 35,
     "metadata": {},
     "output_type": "execute_result"
    }
   ],
   "source": [
    "model.predict([[9.6]])"
   ]
  },
  {
   "cell_type": "code",
   "execution_count": 36,
   "id": "f2019c30",
   "metadata": {},
   "outputs": [
    {
     "ename": "NameError",
     "evalue": "name 'x' is not defined",
     "output_type": "error",
     "traceback": [
      "\u001b[1;31m---------------------------------------------------------------------------\u001b[0m",
      "\u001b[1;31mNameError\u001b[0m                                 Traceback (most recent call last)",
      "Input \u001b[1;32mIn [36]\u001b[0m, in \u001b[0;36m<cell line: 1>\u001b[1;34m()\u001b[0m\n\u001b[1;32m----> 1\u001b[0m y\u001b[38;5;241m=\u001b[39m\u001b[38;5;241m0.56\u001b[39m\u001b[38;5;241m*\u001b[39m\u001b[43mx\u001b[49m\u001b[38;5;241m-\u001b[39m\u001b[38;5;241m0.97\u001b[39m\n",
      "\u001b[1;31mNameError\u001b[0m: name 'x' is not defined"
     ]
    }
   ],
   "source": [
    "y=0.56*x-0.97"
   ]
  },
  {
   "cell_type": "code",
   "execution_count": 37,
   "id": "e28e834b",
   "metadata": {},
   "outputs": [
    {
     "data": {
      "text/plain": [
       "[<matplotlib.lines.Line2D at 0x183e8f8c610>]"
      ]
     },
     "execution_count": 37,
     "metadata": {},
     "output_type": "execute_result"
    },
    {
     "data": {
      "image/png": "[encoded data removed]",
      "text/plain": [
       "<Figure size 432x288 with 1 Axes>"
      ]
     },
     "metadata": {
      "needs_background": "light"
     },
     "output_type": "display_data"
    }
   ],
   "source": [
    "plt.scatter(df['cgpa'],df['package'])\n",
    "plt.plot(X_train['cgpa'],model.predict(X_train),color=\"red\")"
   ]
  },
  {
   "cell_type": "code",
   "execution_count": null,
   "id": "15a85ba0",
   "metadata": {},
   "outputs": [],
   "source": []
  },
  {
   "cell_type": "markdown",
   "id": "f4b1b7b6",
   "metadata": {},
   "source": [
    "# Multiple linear regression"
   ]
  },
  {
   "cell_type": "code",
   "execution_count": 59,
   "id": "70f6620e",
   "metadata": {},
   "outputs": [],
   "source": [
    "from sklearn.datasets import make_regression\n",
    "X,y=make_regression(n_samples=150, n_features=2, n_targets=1, noise=40)"
   ]
  },
  {
   "cell_type": "code",
   "execution_count": 60,
   "id": "c467d568",
   "metadata": {},
   "outputs": [
    {
     "data": {
      "text/plain": [
       "array([[-6.32020084e-01, -5.53464362e-01],\n",
       "       [ 8.92687328e-01, -5.85693413e-01],\n",
       "       [ 1.79012694e+00, -5.02142874e-01],\n",
       "       [ 1.55604660e+00, -1.70145918e+00],\n",
       "       [-1.24299385e-01, -1.16564063e-01],\n",
       "       [-5.20923867e-01,  1.81563672e-01],\n",
       "       [ 1.66382794e+00,  8.31343782e-01],\n",
       "       [ 5.76568482e-01, -2.58899517e-01],\n",
       "       [ 5.32478730e-01,  5.36705961e-01],\n",
       "       [ 6.37812540e-01,  3.79030077e-01],\n",
       "       [ 1.25460702e+00, -9.63990090e-02],\n",
       "       [-5.33423096e-01,  6.18608816e-01],\n",
       "       [ 5.64466681e-01, -1.36754415e+00],\n",
       "       [ 1.88487309e+00, -4.18494696e-01],\n",
       "       [-2.25188046e-01,  1.85177374e+00],\n",
       "       [-6.10072703e-01, -1.06852757e+00],\n",
       "       [ 3.48527407e-01,  1.14285743e+00],\n",
       "       [-9.91369632e-01,  5.03605275e-01],\n",
       "       [-6.76744969e-01, -9.43848723e-01],\n",
       "       [ 5.08766225e-01, -1.29436450e+00],\n",
       "       [-4.16020681e-01, -2.91349897e-01],\n",
       "       [ 3.78342480e-01,  3.32506504e-01],\n",
       "       [-7.23457444e-01,  4.57790048e-01],\n",
       "       [ 1.05519360e+00, -3.13677685e-01],\n",
       "       [ 1.43325842e-01,  9.37641227e-01],\n",
       "       [-9.71929363e-02, -1.09513134e+00],\n",
       "       [ 1.09439206e+00,  5.81112447e-01],\n",
       "       [-4.74934059e-01,  2.33218781e+00],\n",
       "       [ 1.44047137e+00,  7.81707427e-01],\n",
       "       [ 4.93502504e-01,  3.30599249e-01],\n",
       "       [ 6.43318682e-01,  5.60123118e-01],\n",
       "       [ 1.13058025e+00,  1.94132791e+00],\n",
       "       [-1.99676313e+00, -1.18865762e+00],\n",
       "       [-1.00956306e+00,  6.43287400e-01],\n",
       "       [-1.62468638e+00,  8.51954978e-01],\n",
       "       [ 1.15805296e+00,  6.07750120e-02],\n",
       "       [ 1.10435919e-01,  2.40724489e-01],\n",
       "       [-1.68186885e+00,  6.78100228e-01],\n",
       "       [ 1.76157790e+00, -1.86380977e-01],\n",
       "       [-5.05604140e-01,  1.85673305e+00],\n",
       "       [-1.09772286e+00,  3.22111594e-02],\n",
       "       [-2.33259360e-01, -9.83151872e-01],\n",
       "       [ 5.11147377e-01,  2.33177362e-01],\n",
       "       [ 1.41251453e+00, -9.43937336e-01],\n",
       "       [-1.56325468e-01, -6.45516983e-01],\n",
       "       [-2.67070811e-01,  7.62182360e-01],\n",
       "       [ 2.45366147e-01, -1.20134816e+00],\n",
       "       [-1.88241096e-03, -3.94658460e-01],\n",
       "       [-2.22977647e-01, -1.37006361e+00],\n",
       "       [-1.69864430e-01, -2.82498437e-01],\n",
       "       [-5.20052920e-01,  8.49557597e-01],\n",
       "       [ 1.65081701e+00,  5.37020458e-01],\n",
       "       [-2.15499870e-01, -3.82538168e-01],\n",
       "       [-4.81288555e-01, -6.08607337e-01],\n",
       "       [ 1.27419504e+00, -4.46685188e-01],\n",
       "       [-2.17505990e+00,  6.98952823e-01],\n",
       "       [-2.65898121e-02,  3.70740360e-01],\n",
       "       [-2.20158949e-01, -1.91881283e-01],\n",
       "       [-5.40810892e-01,  6.75460106e-01],\n",
       "       [-1.10371026e+00, -2.88850123e-01],\n",
       "       [-1.92312889e-01,  1.11231403e+00],\n",
       "       [ 4.65770737e-01, -1.28236569e+00],\n",
       "       [ 4.42707239e-01,  2.08766810e-01],\n",
       "       [-9.05352547e-01, -1.09797684e+00],\n",
       "       [-1.77999400e+00, -1.32572113e+00],\n",
       "       [-4.52717426e-01, -7.40956711e-01],\n",
       "       [-6.93033884e-02, -1.04901413e+00],\n",
       "       [-6.97576996e-01, -4.53913791e-01],\n",
       "       [-1.39068867e+00,  5.60829704e-03],\n",
       "       [ 1.32792314e+00,  6.99159515e-01],\n",
       "       [-1.12547386e+00,  2.09863569e-01],\n",
       "       [-2.82414254e-01, -2.52021777e+00],\n",
       "       [ 7.08136226e-02, -3.40657445e-01],\n",
       "       [-4.15660451e-01,  5.38574330e-01],\n",
       "       [ 3.78307957e-01, -9.42175829e-01],\n",
       "       [ 6.35510967e-01,  2.47055998e-01],\n",
       "       [-2.34769959e-01, -9.71150393e-01],\n",
       "       [ 1.29845394e-01, -1.16208906e+00],\n",
       "       [-1.39494933e+00,  2.47325577e-01],\n",
       "       [-3.39464371e-01, -3.39051301e-01],\n",
       "       [ 6.33347797e-01,  1.90934026e-02],\n",
       "       [ 6.31457248e-01, -6.08389350e-01],\n",
       "       [ 9.95861809e-01,  1.22815798e+00],\n",
       "       [ 5.14630290e-02, -6.06301962e-01],\n",
       "       [ 6.69874487e-01,  3.88556439e-01],\n",
       "       [-6.02124697e-01,  1.34886785e-01],\n",
       "       [ 1.62951688e-01, -3.41436013e-01],\n",
       "       [-1.94609948e+00, -2.24746007e-01],\n",
       "       [-8.82187087e-01, -2.73728619e-01],\n",
       "       [ 9.47333569e-01,  1.47760557e-01],\n",
       "       [ 2.39441288e-01,  6.30559351e-01],\n",
       "       [-1.03504322e+00,  5.47518229e-01],\n",
       "       [-7.84869593e-01, -1.44934617e+00],\n",
       "       [-1.72113992e-01,  3.48896148e-01],\n",
       "       [-7.28324754e-01, -2.10250373e-02],\n",
       "       [ 5.13666345e-01, -5.97795738e-01],\n",
       "       [ 4.13183847e-01, -2.99307324e-01],\n",
       "       [ 8.11416855e-01, -6.48836042e-01],\n",
       "       [-6.06819896e-01, -8.12439435e-01],\n",
       "       [-5.55861372e-01,  1.24870059e+00],\n",
       "       [-5.37861645e-01,  1.67400125e+00],\n",
       "       [ 4.90097142e-01,  4.09766224e-01],\n",
       "       [-6.41974208e-01, -7.97002157e-01],\n",
       "       [ 8.71834949e-01,  6.49514276e-01],\n",
       "       [-5.22088319e-01,  1.01851432e+00],\n",
       "       [-1.01284783e-01,  9.40158418e-02],\n",
       "       [ 1.63690555e+00,  1.96928007e-01],\n",
       "       [ 5.13356001e-01, -1.92954126e-01],\n",
       "       [-6.52580891e-01, -2.53689447e-01],\n",
       "       [ 2.57875101e-01, -3.57624285e-01],\n",
       "       [-2.27110786e-01, -5.44798170e-01],\n",
       "       [ 1.98687897e+00,  9.62584900e-01],\n",
       "       [ 3.72652897e-01,  1.28030669e+00],\n",
       "       [ 2.83876311e+00, -1.40416531e+00],\n",
       "       [-1.82478628e+00, -1.30058637e+00],\n",
       "       [-2.70364767e-01, -1.64663839e+00],\n",
       "       [ 2.69040588e-01,  1.16034731e+00],\n",
       "       [ 7.70586333e-01,  3.25097933e-01],\n",
       "       [-1.00130724e+00,  2.18747742e-01],\n",
       "       [ 1.34158786e-01,  1.08850510e+00],\n",
       "       [-9.51368208e-01,  8.67424508e-01],\n",
       "       [ 5.83948170e-01, -1.71965998e+00],\n",
       "       [ 3.74997855e-01,  9.91568710e-02],\n",
       "       [ 1.45300523e+00, -1.56489473e+00],\n",
       "       [-1.80154147e-01,  1.10670253e+00],\n",
       "       [-4.72060830e-01, -1.06516304e+00],\n",
       "       [ 4.94677708e-01, -1.34206702e-01],\n",
       "       [-3.28913366e-01,  5.48771379e-01],\n",
       "       [ 2.06467794e+00,  2.47774800e-01],\n",
       "       [ 9.94378578e-01,  1.09818426e+00],\n",
       "       [-2.56902928e-01,  4.43911178e-02],\n",
       "       [-1.36227139e+00,  8.69189830e-01],\n",
       "       [ 6.54283564e-01,  1.24944904e+00],\n",
       "       [ 2.14171516e-01, -4.64046465e-01],\n",
       "       [-4.05957216e-01,  4.77067554e-01],\n",
       "       [ 4.32630204e-01, -6.66457962e-01],\n",
       "       [-8.92389046e-01, -1.52183546e+00],\n",
       "       [-1.99579561e+00, -1.51354305e+00],\n",
       "       [-7.53659977e-01, -3.56327667e-01],\n",
       "       [ 2.37003638e-02,  8.19020535e-02],\n",
       "       [ 1.21293546e+00, -1.08409174e+00],\n",
       "       [ 1.00025427e+00, -7.34735244e-02],\n",
       "       [-8.64078920e-01, -1.74577785e-01],\n",
       "       [ 7.83300783e-01, -1.36901516e+00],\n",
       "       [ 1.48468487e-01, -7.06876465e-01],\n",
       "       [ 6.34310410e-01,  9.11691363e-01],\n",
       "       [ 7.64941870e-01, -4.00740909e-01],\n",
       "       [-1.17006625e+00, -8.61827985e-01],\n",
       "       [ 6.85097069e-01, -6.58366399e-01],\n",
       "       [ 1.22198038e+00,  1.29700703e-01]])"
      ]
     },
     "execution_count": 60,
     "metadata": {},
     "output_type": "execute_result"
    }
   ],
   "source": [
    "X"
   ]
  },
  {
   "cell_type": "code",
   "execution_count": 61,
   "id": "11598f98",
   "metadata": {},
   "outputs": [
    {
     "data": {
      "text/plain": [
       "array([ -72.61696513,  -64.9206052 ,   -0.91622252, -106.29363395,\n",
       "         38.86425209,   14.39266227,   93.89209989,  -69.52989376,\n",
       "         54.25523893,   10.24535622,   66.04737784,   41.46403215,\n",
       "       -109.92424897,   74.02039713,  122.74688283, -151.41164298,\n",
       "        109.00721741,   17.37624344, -143.4179847 , -131.69966021,\n",
       "        -63.52818322,   44.82799547,  -18.42477615,   33.77494226,\n",
       "        134.52370266,  -35.5868443 ,   17.83721309,  195.88236195,\n",
       "        142.61538605,  -53.36717033,   30.68140238,  235.17545348,\n",
       "       -162.86712099,   36.66257016,    8.95893835,   20.65044708,\n",
       "         62.1182508 ,   -7.2884263 ,   34.30550422,  168.61535819,\n",
       "        -64.37849516, -113.50118508,   22.31712723,  -89.01378147,\n",
       "        -56.85979715,   33.13614887,  -78.66897982,  -31.72439371,\n",
       "        -28.64360432,  -16.13615704,   13.28295164,   68.05391583,\n",
       "         32.78406565,  -37.14433958,   44.90646965,  -74.7711224 ,\n",
       "         28.49437108,   29.09423846,   -6.99693124, -113.1561867 ,\n",
       "        172.65904991,  -38.46441463,   51.83263166, -138.9330645 ,\n",
       "       -153.12707676,  -21.71119157, -129.24258217,  -32.49570091,\n",
       "        -17.40251086,   31.07882009,   -3.26505897, -212.06750709,\n",
       "         21.89708404,  -47.33220884,  -92.90000362,   13.34103831,\n",
       "       -175.74202196,  -39.70636275,  -78.44264308,  -53.69132   ,\n",
       "         55.39274132,   45.68710682,  124.8770838 ,  -56.88892248,\n",
       "         50.69880775,  -55.30909115,  -10.8872793 , -152.00150808,\n",
       "       -113.01992834,   42.2179145 ,  -47.28802591,  -56.84783549,\n",
       "       -169.6303593 ,   26.17017751,  -12.40147696,   34.68224721,\n",
       "        -24.01000589,    7.10229354,  -22.8182165 ,    5.06618573,\n",
       "        142.03118137,   79.0114732 ,  -68.73672663,   29.30751934,\n",
       "        127.45513622,   52.09265254,   52.18800989,  -31.10697135,\n",
       "       -117.670621  ,   28.02612212,  -12.38649857,  153.6954628 ,\n",
       "         45.1215456 ,   17.64657921, -199.0589516 , -171.09911169,\n",
       "         63.56494962,   13.75233701,  -68.55553249,   89.27987377,\n",
       "         63.11550558,  -47.49422949,   55.66931404,  -87.40689493,\n",
       "         47.68194776, -144.99801838,  -29.09103525,  -51.82931156,\n",
       "        114.74591296,   78.49842518,  -12.51535132,   68.5137968 ,\n",
       "         69.04917118,  -29.0909205 ,   48.66587555,  -36.71475821,\n",
       "       -143.65920298, -154.89346415,  -90.10855942,   31.48284861,\n",
       "        -55.60635015,  -15.6155213 , -136.48672881,  -14.62223192,\n",
       "        -51.98301595,   57.33004979,  -23.86993447, -124.27289584,\n",
       "         27.82051204,   59.81598067])"
      ]
     },
     "execution_count": 61,
     "metadata": {},
     "output_type": "execute_result"
    }
   ],
   "source": [
    "y"
   ]
  },
  {
   "cell_type": "code",
   "execution_count": 62,
   "id": "81ec710a",
   "metadata": {},
   "outputs": [],
   "source": [
    "df=pd.DataFrame({'feature1':X[:,0],'feature2':X[:,1],'target':y})\n",
    "\n",
    "#CONVERT INTO df"
   ]
  },
  {
   "cell_type": "code",
   "execution_count": 63,
   "id": "4061967d",
   "metadata": {},
   "outputs": [
    {
     "data": {
      "text/html": [
       "<div>\n",
       "<style scoped>\n",
       "    .dataframe tbody tr th:only-of-type {\n",
       "        vertical-align: middle;\n",
       "    }\n",
       "\n",
       "    .dataframe tbody tr th {\n",
       "        vertical-align: top;\n",
       "    }\n",
       "\n",
       "    .dataframe thead th {\n",
       "        text-align: right;\n",
       "    }\n",
       "</style>\n",
       "<table border=\"1\" class=\"dataframe\">\n",
       "  <thead>\n",
       "    <tr style=\"text-align: right;\">\n",
       "      <th></th>\n",
       "      <th>feature1</th>\n",
       "      <th>feature2</th>\n",
       "      <th>target</th>\n",
       "    </tr>\n",
       "  </thead>\n",
       "  <tbody>\n",
       "    <tr>\n",
       "      <th>0</th>\n",
       "      <td>-0.632020</td>\n",
       "      <td>-0.553464</td>\n",
       "      <td>-72.616965</td>\n",
       "    </tr>\n",
       "    <tr>\n",
       "      <th>1</th>\n",
       "      <td>0.892687</td>\n",
       "      <td>-0.585693</td>\n",
       "      <td>-64.920605</td>\n",
       "    </tr>\n",
       "    <tr>\n",
       "      <th>2</th>\n",
       "      <td>1.790127</td>\n",
       "      <td>-0.502143</td>\n",
       "      <td>-0.916223</td>\n",
       "    </tr>\n",
       "    <tr>\n",
       "      <th>3</th>\n",
       "      <td>1.556047</td>\n",
       "      <td>-1.701459</td>\n",
       "      <td>-106.293634</td>\n",
       "    </tr>\n",
       "    <tr>\n",
       "      <th>4</th>\n",
       "      <td>-0.124299</td>\n",
       "      <td>-0.116564</td>\n",
       "      <td>38.864252</td>\n",
       "    </tr>\n",
       "    <tr>\n",
       "      <th>...</th>\n",
       "      <td>...</td>\n",
       "      <td>...</td>\n",
       "      <td>...</td>\n",
       "    </tr>\n",
       "    <tr>\n",
       "      <th>145</th>\n",
       "      <td>0.634310</td>\n",
       "      <td>0.911691</td>\n",
       "      <td>57.330050</td>\n",
       "    </tr>\n",
       "    <tr>\n",
       "      <th>146</th>\n",
       "      <td>0.764942</td>\n",
       "      <td>-0.400741</td>\n",
       "      <td>-23.869934</td>\n",
       "    </tr>\n",
       "    <tr>\n",
       "      <th>147</th>\n",
       "      <td>-1.170066</td>\n",
       "      <td>-0.861828</td>\n",
       "      <td>-124.272896</td>\n",
       "    </tr>\n",
       "    <tr>\n",
       "      <th>148</th>\n",
       "      <td>0.685097</td>\n",
       "      <td>-0.658366</td>\n",
       "      <td>27.820512</td>\n",
       "    </tr>\n",
       "    <tr>\n",
       "      <th>149</th>\n",
       "      <td>1.221980</td>\n",
       "      <td>0.129701</td>\n",
       "      <td>59.815981</td>\n",
       "    </tr>\n",
       "  </tbody>\n",
       "</table>\n",
       "<p>150 rows × 3 columns</p>\n",
       "</div>"
      ],
      "text/plain": [
       "     feature1  feature2      target\n",
       "0   -0.632020 -0.553464  -72.616965\n",
       "1    0.892687 -0.585693  -64.920605\n",
       "2    1.790127 -0.502143   -0.916223\n",
       "3    1.556047 -1.701459 -106.293634\n",
       "4   -0.124299 -0.116564   38.864252\n",
       "..        ...       ...         ...\n",
       "145  0.634310  0.911691   57.330050\n",
       "146  0.764942 -0.400741  -23.869934\n",
       "147 -1.170066 -0.861828 -124.272896\n",
       "148  0.685097 -0.658366   27.820512\n",
       "149  1.221980  0.129701   59.815981\n",
       "\n",
       "[150 rows x 3 columns]"
      ]
     },
     "execution_count": 63,
     "metadata": {},
     "output_type": "execute_result"
    }
   ],
   "source": [
    "df"
   ]
  },
  {
   "cell_type": "code",
   "execution_count": 64,
   "id": "1110837e",
   "metadata": {},
   "outputs": [
    {
     "data": {
      "text/html": [
       "<div>\n",
       "<style scoped>\n",
       "    .dataframe tbody tr th:only-of-type {\n",
       "        vertical-align: middle;\n",
       "    }\n",
       "\n",
       "    .dataframe tbody tr th {\n",
       "        vertical-align: top;\n",
       "    }\n",
       "\n",
       "    .dataframe thead th {\n",
       "        text-align: right;\n",
       "    }\n",
       "</style>\n",
       "<table border=\"1\" class=\"dataframe\">\n",
       "  <thead>\n",
       "    <tr style=\"text-align: right;\">\n",
       "      <th></th>\n",
       "      <th>feature1</th>\n",
       "      <th>feature2</th>\n",
       "      <th>target</th>\n",
       "    </tr>\n",
       "  </thead>\n",
       "  <tbody>\n",
       "    <tr>\n",
       "      <th>0</th>\n",
       "      <td>-0.632020</td>\n",
       "      <td>-0.553464</td>\n",
       "      <td>-72.616965</td>\n",
       "    </tr>\n",
       "    <tr>\n",
       "      <th>1</th>\n",
       "      <td>0.892687</td>\n",
       "      <td>-0.585693</td>\n",
       "      <td>-64.920605</td>\n",
       "    </tr>\n",
       "    <tr>\n",
       "      <th>2</th>\n",
       "      <td>1.790127</td>\n",
       "      <td>-0.502143</td>\n",
       "      <td>-0.916223</td>\n",
       "    </tr>\n",
       "    <tr>\n",
       "      <th>3</th>\n",
       "      <td>1.556047</td>\n",
       "      <td>-1.701459</td>\n",
       "      <td>-106.293634</td>\n",
       "    </tr>\n",
       "    <tr>\n",
       "      <th>4</th>\n",
       "      <td>-0.124299</td>\n",
       "      <td>-0.116564</td>\n",
       "      <td>38.864252</td>\n",
       "    </tr>\n",
       "  </tbody>\n",
       "</table>\n",
       "</div>"
      ],
      "text/plain": [
       "   feature1  feature2      target\n",
       "0 -0.632020 -0.553464  -72.616965\n",
       "1  0.892687 -0.585693  -64.920605\n",
       "2  1.790127 -0.502143   -0.916223\n",
       "3  1.556047 -1.701459 -106.293634\n",
       "4 -0.124299 -0.116564   38.864252"
      ]
     },
     "execution_count": 64,
     "metadata": {},
     "output_type": "execute_result"
    }
   ],
   "source": [
    "df.head()"
   ]
  },
  {
   "cell_type": "code",
   "execution_count": 65,
   "id": "68f95dda",
   "metadata": {},
   "outputs": [
    {
     "data": {
      "text/html": [
       "<div>\n",
       "<style scoped>\n",
       "    .dataframe tbody tr th:only-of-type {\n",
       "        vertical-align: middle;\n",
       "    }\n",
       "\n",
       "    .dataframe tbody tr th {\n",
       "        vertical-align: top;\n",
       "    }\n",
       "\n",
       "    .dataframe thead th {\n",
       "        text-align: right;\n",
       "    }\n",
       "</style>\n",
       "<table border=\"1\" class=\"dataframe\">\n",
       "  <thead>\n",
       "    <tr style=\"text-align: right;\">\n",
       "      <th></th>\n",
       "      <th>feature1</th>\n",
       "      <th>feature2</th>\n",
       "      <th>target</th>\n",
       "    </tr>\n",
       "  </thead>\n",
       "  <tbody>\n",
       "    <tr>\n",
       "      <th>145</th>\n",
       "      <td>0.634310</td>\n",
       "      <td>0.911691</td>\n",
       "      <td>57.330050</td>\n",
       "    </tr>\n",
       "    <tr>\n",
       "      <th>146</th>\n",
       "      <td>0.764942</td>\n",
       "      <td>-0.400741</td>\n",
       "      <td>-23.869934</td>\n",
       "    </tr>\n",
       "    <tr>\n",
       "      <th>147</th>\n",
       "      <td>-1.170066</td>\n",
       "      <td>-0.861828</td>\n",
       "      <td>-124.272896</td>\n",
       "    </tr>\n",
       "    <tr>\n",
       "      <th>148</th>\n",
       "      <td>0.685097</td>\n",
       "      <td>-0.658366</td>\n",
       "      <td>27.820512</td>\n",
       "    </tr>\n",
       "    <tr>\n",
       "      <th>149</th>\n",
       "      <td>1.221980</td>\n",
       "      <td>0.129701</td>\n",
       "      <td>59.815981</td>\n",
       "    </tr>\n",
       "  </tbody>\n",
       "</table>\n",
       "</div>"
      ],
      "text/plain": [
       "     feature1  feature2      target\n",
       "145  0.634310  0.911691   57.330050\n",
       "146  0.764942 -0.400741  -23.869934\n",
       "147 -1.170066 -0.861828 -124.272896\n",
       "148  0.685097 -0.658366   27.820512\n",
       "149  1.221980  0.129701   59.815981"
      ]
     },
     "execution_count": 65,
     "metadata": {},
     "output_type": "execute_result"
    }
   ],
   "source": [
    "df.tail()"
   ]
  },
  {
   "cell_type": "code",
   "execution_count": 66,
   "id": "a281f8a2",
   "metadata": {},
   "outputs": [
    {
     "data": {
      "text/plain": [
       "(150, 3)"
      ]
     },
     "execution_count": 66,
     "metadata": {},
     "output_type": "execute_result"
    }
   ],
   "source": [
    "df.shape"
   ]
  },
  {
   "cell_type": "code",
   "execution_count": 67,
   "id": "9e0dd389",
   "metadata": {},
   "outputs": [
    {
     "data": {
      "application/vnd.plotly.v1+json": {
       "config": {
        "plotlyServerURL": "https://plot.ly"
       },
       "data": [
        {
         "hovertemplate": "feature1=%{x}<br>feature2=%{y}<br>target=%{z}<extra></extra>",
         "legendgroup": "",
         "marker": {
          "color": "#636efa",
          "symbol": "circle"
         },
         "mode": "markers",
         "name": "",
         "scene": "scene",
         "showlegend": false,
         "type": "scatter3d",
         "x": [
          -0.6320200840927469,
          0.8926873281167806,
          1.7901269400488977,
          1.5560466000034903,
          -0.12429938544216455,
          -0.5209238673734495,
          1.663827940879905,
          0.576568482209524,
          0.5324787296806581,
          0.6378125396564551,
          1.2546070195927483,
          -0.5334230959419289,
          0.5644666814033669,
          1.8848730864362517,
          -0.2251880455441879,
          -0.6100727029336878,
          0.3485274074570636,
          -0.9913696320820168,
          -0.6767449689547511,
          0.5087662245861427,
          -0.4160206805635797,
          0.37834248012663585,
          -0.7234574439920852,
          1.055193601495119,
          0.1433258421524141,
          -0.0971929362677539,
          1.0943920558979174,
          -0.4749340593438375,
          1.4404713658905113,
          0.49350250402704154,
          0.6433186821636784,
          1.130580245427831,
          -1.996763130017499,
          -1.0095630601520993,
          -1.6246863761214194,
          1.1580529586992108,
          0.1104359191938204,
          -1.681868850934286,
          1.7615779043713304,
          -0.5056041402114474,
          -1.0977228640741743,
          -0.23325936033770514,
          0.5111473770421314,
          1.4125145339716894,
          -0.15632546822317017,
          -0.26707081082453793,
          0.24536614743741933,
          -0.0018824109649192699,
          -0.22297764742479764,
          -0.16986443027997986,
          -0.5200529197064631,
          1.6508170127446815,
          -0.2154998699372169,
          -0.48128855515078633,
          1.2741950445682917,
          -2.1750598994937906,
          -0.026589812074105962,
          -0.22015894862035038,
          -0.5408108919561246,
          -1.1037102626333788,
          -0.1923128893622806,
          0.46577073718673,
          0.4427072389363201,
          -0.9053525465958917,
          -1.779993996538425,
          -0.45271742595725634,
          -0.06930338840163051,
          -0.6975769959668215,
          -1.3906886699644174,
          1.3279231385855073,
          -1.125473857221336,
          -0.28241425440810786,
          0.07081362255544293,
          -0.4156604506866751,
          0.37830795689175895,
          0.6355109665432679,
          -0.23476995884810153,
          0.12984539441511903,
          -1.3949493280817473,
          -0.3394643705454982,
          0.6333477974624188,
          0.6314572479112619,
          0.9958618093556927,
          0.05146302895930435,
          0.6698744870377081,
          -0.6021246973521331,
          0.1629516876210889,
          -1.9460994752772243,
          -0.8821870871208559,
          0.9473335694157707,
          0.23944128762622352,
          -1.0350432226072157,
          -0.7848695928156045,
          -0.17211399193809082,
          -0.728324754240545,
          0.5136663453491572,
          0.41318384687165793,
          0.8114168551374924,
          -0.6068198962226519,
          -0.5558613715221656,
          -0.5378616446755534,
          0.49009714191452264,
          -0.6419742077835698,
          0.8718349489539602,
          -0.522088318677494,
          -0.10128478329305053,
          1.636905551779324,
          0.5133560008653151,
          -0.652580890788667,
          0.25787510119298745,
          -0.2271107864979519,
          1.9868789685332473,
          0.3726528973045371,
          2.8387631112692464,
          -1.8247862783668634,
          -0.2703647673005159,
          0.2690405880680026,
          0.7705863328272266,
          -1.0013072353564771,
          0.1341587856656519,
          -0.951368208106251,
          0.5839481704447299,
          0.3749978554115002,
          1.4530052305831436,
          -0.18015414710094116,
          -0.47206083009033095,
          0.49467770799603794,
          -0.3289133661379925,
          2.0646779433562585,
          0.9943785780985754,
          -0.2569029281651903,
          -1.3622713898603995,
          0.6542835635539797,
          0.21417151597809558,
          -0.40595721633507204,
          0.4326302043867961,
          -0.8923890456555071,
          -1.995795614987088,
          -0.7536599774869728,
          0.023700363750863405,
          1.212935461369243,
          1.0002542683330031,
          -0.8640789202529039,
          0.7833007828675699,
          0.1484684871647641,
          0.6343104099739411,
          0.7649418696162053,
          -1.1700662464074991,
          0.6850970690937183,
          1.221980382483001
         ],
         "y": [
          -0.5534643618833314,
          -0.5856934133044892,
          -0.5021428741856099,
          -1.7014591757478008,
          -0.11656406322944864,
          0.18156367187671854,
          0.8313437821233035,
          -0.2588995172496308,
          0.5367059610563912,
          0.37903007723523907,
          -0.09639900904522959,
          0.6186088161029945,
          -1.3675441501702794,
          -0.41849469596064975,
          1.8517737448766447,
          -1.0685275687387958,
          1.142857433768415,
          0.5036052751661545,
          -0.9438487232162088,
          -1.2943644968177277,
          -0.2913498968805121,
          0.33250650417075767,
          0.4577900482799648,
          -0.3136776852000658,
          0.9376412273580447,
          -1.0951313379716106,
          0.5811124469688534,
          2.3321878143906525,
          0.7817074274271066,
          0.33059924929268286,
          0.5601231178383516,
          1.9413279081238293,
          -1.1886576192213607,
          0.643287399797883,
          0.8519549782006209,
          0.060775012005469004,
          0.24072448948705172,
          0.6781002276274318,
          -0.18638097710750115,
          1.8567330534580577,
          0.032211159414719456,
          -0.9831518724560008,
          0.23317736211970463,
          -0.9439373359268919,
          -0.645516982776896,
          0.7621823602334201,
          -1.2013481595912603,
          -0.39465846015619793,
          -1.370063606547382,
          -0.28249843674595704,
          0.8495575966593721,
          0.5370204577894644,
          -0.3825381679506041,
          -0.6086073368239917,
          -0.4466851876178355,
          0.6989528232737979,
          0.37074036015896866,
          -0.19188128345861205,
          0.6754601055181182,
          -0.28885012263143955,
          1.1123140324257308,
          -1.2823656886054784,
          0.2087668098111842,
          -1.0979768388831799,
          -1.3257211314776594,
          -0.7409567109696241,
          -1.049014126698304,
          -0.4539137914181119,
          0.00560829704252533,
          0.6991595154006366,
          0.20986356931532085,
          -2.5202177671064256,
          -0.3406574450500101,
          0.5385743298569815,
          -0.9421758289448295,
          0.2470559978313531,
          -0.9711503927855643,
          -1.162089060128667,
          0.24732557664150773,
          -0.33905130100498143,
          0.019093402590439425,
          -0.6083893497709615,
          1.228157979359101,
          -0.6063019615511918,
          0.38855643878173773,
          0.13488678548262228,
          -0.3414360129093819,
          -0.22474600660910976,
          -0.27372861875825566,
          0.1477605566591235,
          0.6305593512326363,
          0.5475182288244892,
          -1.4493461721909369,
          0.34889614835673194,
          -0.021025037344698985,
          -0.5977957380568832,
          -0.29930732400526844,
          -0.6488360416312252,
          -0.8124394349989847,
          1.2487005911309201,
          1.6740012530267123,
          0.4097662244917181,
          -0.7970021565677538,
          0.6495142763152484,
          1.0185143236881955,
          0.09401584180967053,
          0.19692800699042345,
          -0.19295412601301884,
          -0.25368944739703303,
          -0.3576242849267738,
          -0.5447981695685429,
          0.9625848995732676,
          1.280306686134405,
          -1.4041653054029963,
          -1.3005863706812908,
          -1.6466383912052824,
          1.1603473066138723,
          0.32509793290807154,
          0.21874774231892558,
          1.0885050967348093,
          0.8674245082128972,
          -1.7196599818425136,
          0.09915687104216211,
          -1.5648947265291566,
          1.106702532277723,
          -1.0651630444805813,
          -0.13420670152265707,
          0.5487713793744607,
          0.24777480049437609,
          1.0981842644985726,
          0.044391117814991624,
          0.8691898300641218,
          1.2494490444161392,
          -0.4640464648060199,
          0.477067553858406,
          -0.6664579622255081,
          -1.5218354642533678,
          -1.513543045968347,
          -0.3563276668196838,
          0.08190205348027588,
          -1.0840917380721484,
          -0.07347352444949069,
          -0.17457778502985857,
          -1.3690151571111202,
          -0.7068764645409387,
          0.9116913629180856,
          -0.40074090850516125,
          -0.8618279851622526,
          -0.65836639852681,
          0.12970070254085367
         ],
         "z": [
          -72.61696513418141,
          -64.92060519811305,
          -0.9162225201679988,
          -106.29363394978489,
          38.86425208732275,
          14.392662269215771,
          93.8920998913288,
          -69.52989375998764,
          54.25523893385006,
          10.245356215626877,
          66.04737783644785,
          41.46403214973662,
          -109.92424896869142,
          74.02039713000431,
          122.74688283379083,
          -151.41164298304403,
          109.00721740575953,
          17.376243444142855,
          -143.41798470118064,
          -131.69966021163418,
          -63.52818321554637,
          44.827995470448904,
          -18.424776152991665,
          33.77494225613364,
          134.52370266025645,
          -35.58684430237383,
          17.837213085709735,
          195.8823619484371,
          142.61538605252207,
          -53.367170325949125,
          30.68140237604475,
          235.1754534754435,
          -162.86712099436525,
          36.66257015838088,
          8.958938351343654,
          20.650447079078248,
          62.11825080015513,
          -7.288426299779124,
          34.30550422494863,
          168.61535819152368,
          -64.378495155143,
          -113.50118508262491,
          22.317127228069456,
          -89.01378146662074,
          -56.859797154173066,
          33.136148869079086,
          -78.66897982221643,
          -31.72439371157349,
          -28.643604317943797,
          -16.136157044322104,
          13.282951641433854,
          68.05391582979776,
          32.784065651192336,
          -37.14433958266338,
          44.90646964503783,
          -74.77112240072012,
          28.49437107859473,
          29.094238461805322,
          -6.996931243314496,
          -113.1561866958439,
          172.65904991043925,
          -38.464414633237546,
          51.83263165769718,
          -138.93306449602647,
          -153.12707676057016,
          -21.711191572901363,
          -129.2425821666982,
          -32.49570091404193,
          -17.402510858858285,
          31.07882008600066,
          -3.265058973637853,
          -212.06750708713022,
          21.89708404100217,
          -47.33220884081979,
          -92.90000362355875,
          13.34103830697467,
          -175.74202196202248,
          -39.70636274690615,
          -78.44264307521526,
          -53.69131999692373,
          55.392741322437644,
          45.68710681803884,
          124.87708380248333,
          -56.88892248094669,
          50.69880774710353,
          -55.30909115147412,
          -10.887279303563433,
          -152.00150808109305,
          -113.0199283350733,
          42.21791450374586,
          -47.28802591456778,
          -56.847835485319166,
          -169.63035930218348,
          26.170177508342658,
          -12.401476955125009,
          34.682247214697526,
          -24.010005890536554,
          7.10229354194761,
          -22.818216495334326,
          5.0661857313671845,
          142.0311813741061,
          79.01147319949051,
          -68.7367266291402,
          29.30751934233428,
          127.45513622454169,
          52.09265254273015,
          52.1880098891144,
          -31.106971352323953,
          -117.67062100080805,
          28.02612212419278,
          -12.386498570302678,
          153.6954627965959,
          45.121545604536564,
          17.6465792138466,
          -199.05895159560055,
          -171.09911169426732,
          63.564949620537206,
          13.752337008283689,
          -68.55553248967207,
          89.27987377387448,
          63.11550558212354,
          -47.49422949087723,
          55.669314042866326,
          -87.40689493444025,
          47.6819477578654,
          -144.9980183777094,
          -29.09103525423742,
          -51.829311557879116,
          114.74591296025636,
          78.49842517739114,
          -12.51535132324836,
          68.51379680095452,
          69.0491711809018,
          -29.090920504427206,
          48.66587554896375,
          -36.7147582112989,
          -143.65920298378126,
          -154.8934641541474,
          -90.10855942495164,
          31.482848610611057,
          -55.60635014642099,
          -15.615521297447629,
          -136.48672880963682,
          -14.622231916979658,
          -51.983015946724265,
          57.33004978953051,
          -23.869934474013867,
          -124.27289584451418,
          27.82051203552078,
          59.815980668902505
         ]
        }
       ],
       "layout": {
        "legend": {
         "tracegroupgap": 0
        },
        "margin": {
         "t": 60
        },
        "scene": {
         "domain": {
          "x": [
           0,
           1
          ],
          "y": [
           0,
           1
          ]
         },
         "xaxis": {
          "title": {
           "text": "feature1"
          }
         },
         "yaxis": {
          "title": {
           "text": "feature2"
          }
         },
         "zaxis": {
          "title": {
           "text": "target"
          }
         }
        },
        "template": {
         "data": {
          "bar": [
           {
            "error_x": {
             "color": "#2a3f5f"
            },
            "error_y": {
             "color": "#2a3f5f"
            },
            "marker": {
             "line": {
              "color": "#E5ECF6",
              "width": 0.5
             },
             "pattern": {
              "fillmode": "overlay",
              "size": 10,
              "solidity": 0.2
             }
            },
            "type": "bar"
           }
          ],
          "barpolar": [
           {
            "marker": {
             "line": {
              "color": "#E5ECF6",
              "width": 0.5
             },
             "pattern": {
              "fillmode": "overlay",
              "size": 10,
              "solidity": 0.2
             }
            },
            "type": "barpolar"
           }
          ],
          "carpet": [
           {
            "aaxis": {
             "endlinecolor": "#2a3f5f",
             "gridcolor": "white",
             "linecolor": "white",
             "minorgridcolor": "white",
             "startlinecolor": "#2a3f5f"
            },
            "baxis": {
             "endlinecolor": "#2a3f5f",
             "gridcolor": "white",
             "linecolor": "white",
             "minorgridcolor": "white",
             "startlinecolor": "#2a3f5f"
            },
            "type": "carpet"
           }
          ],
          "choropleth": [
           {
            "colorbar": {
             "outlinewidth": 0,
             "ticks": ""
            },
            "type": "choropleth"
           }
          ],
          "contour": [
           {
            "colorbar": {
             "outlinewidth": 0,
             "ticks": ""
            },
            "colorscale": [
             [
              0,
              "#0d0887"
             ],
             [
              0.1111111111111111,
              "#46039f"
             ],
             [
              0.2222222222222222,
              "#7201a8"
             ],
             [
              0.3333333333333333,
              "#9c179e"
             ],
             [
              0.4444444444444444,
              "#bd3786"
             ],
             [
              0.5555555555555556,
              "#d8576b"
             ],
             [
              0.6666666666666666,
              "#ed7953"
             ],
             [
              0.7777777777777778,
              "#fb9f3a"
             ],
             [
              0.8888888888888888,
              "#fdca26"
             ],
             [
              1,
              "#f0f921"
             ]
            ],
            "type": "contour"
           }
          ],
          "contourcarpet": [
           {
            "colorbar": {
             "outlinewidth": 0,
             "ticks": ""
            },
            "type": "contourcarpet"
           }
          ],
          "heatmap": [
           {
            "colorbar": {
             "outlinewidth": 0,
             "ticks": ""
            },
            "colorscale": [
             [
              0,
              "#0d0887"
             ],
             [
              0.1111111111111111,
              "#46039f"
             ],
             [
              0.2222222222222222,
              "#7201a8"
             ],
             [
              0.3333333333333333,
              "#9c179e"
             ],
             [
              0.4444444444444444,
              "#bd3786"
             ],
             [
              0.5555555555555556,
              "#d8576b"
             ],
             [
              0.6666666666666666,
              "#ed7953"
             ],
             [
              0.7777777777777778,
              "#fb9f3a"
             ],
             [
              0.8888888888888888,
              "#fdca26"
             ],
             [
              1,
              "#f0f921"
             ]
            ],
            "type": "heatmap"
           }
          ],
          "heatmapgl": [
           {
            "colorbar": {
             "outlinewidth": 0,
             "ticks": ""
            },
            "colorscale": [
             [
              0,
              "#0d0887"
             ],
             [
              0.1111111111111111,
              "#46039f"
             ],
             [
              0.2222222222222222,
              "#7201a8"
             ],
             [
              0.3333333333333333,
              "#9c179e"
             ],
             [
              0.4444444444444444,
              "#bd3786"
             ],
             [
              0.5555555555555556,
              "#d8576b"
             ],
             [
              0.6666666666666666,
              "#ed7953"
             ],
             [
              0.7777777777777778,
              "#fb9f3a"
             ],
             [
              0.8888888888888888,
              "#fdca26"
             ],
             [
              1,
              "#f0f921"
             ]
            ],
            "type": "heatmapgl"
           }
          ],
          "histogram": [
           {
            "marker": {
             "pattern": {
              "fillmode": "overlay",
              "size": 10,
              "solidity": 0.2
             }
            },
            "type": "histogram"
           }
          ],
          "histogram2d": [
           {
            "colorbar": {
             "outlinewidth": 0,
             "ticks": ""
            },
            "colorscale": [
             [
              0,
              "#0d0887"
             ],
             [
              0.1111111111111111,
              "#46039f"
             ],
             [
              0.2222222222222222,
              "#7201a8"
             ],
             [
              0.3333333333333333,
              "#9c179e"
             ],
             [
              0.4444444444444444,
              "#bd3786"
             ],
             [
              0.5555555555555556,
              "#d8576b"
             ],
             [
              0.6666666666666666,
              "#ed7953"
             ],
             [
              0.7777777777777778,
              "#fb9f3a"
             ],
             [
              0.8888888888888888,
              "#fdca26"
             ],
             [
              1,
              "#f0f921"
             ]
            ],
            "type": "histogram2d"
           }
          ],
          "histogram2dcontour": [
           {
            "colorbar": {
             "outlinewidth": 0,
             "ticks": ""
            },
            "colorscale": [
             [
              0,
              "#0d0887"
             ],
             [
              0.1111111111111111,
              "#46039f"
             ],
             [
              0.2222222222222222,
              "#7201a8"
             ],
             [
              0.3333333333333333,
              "#9c179e"
             ],
             [
              0.4444444444444444,
              "#bd3786"
             ],
             [
              0.5555555555555556,
              "#d8576b"
             ],
             [
              0.6666666666666666,
              "#ed7953"
             ],
             [
              0.7777777777777778,
              "#fb9f3a"
             ],
             [
              0.8888888888888888,
              "#fdca26"
             ],
             [
              1,
              "#f0f921"
             ]
            ],
            "type": "histogram2dcontour"
           }
          ],
          "mesh3d": [
           {
            "colorbar": {
             "outlinewidth": 0,
             "ticks": ""
            },
            "type": "mesh3d"
           }
          ],
          "parcoords": [
           {
            "line": {
             "colorbar": {
              "outlinewidth": 0,
              "ticks": ""
             }
            },
            "type": "parcoords"
           }
          ],
          "pie": [
           {
            "automargin": true,
            "type": "pie"
           }
          ],
          "scatter": [
           {
            "marker": {
             "colorbar": {
              "outlinewidth": 0,
              "ticks": ""
             }
            },
            "type": "scatter"
           }
          ],
          "scatter3d": [
           {
            "line": {
             "colorbar": {
              "outlinewidth": 0,
              "ticks": ""
             }
            },
            "marker": {
             "colorbar": {
              "outlinewidth": 0,
              "ticks": ""
             }
            },
            "type": "scatter3d"
           }
          ],
          "scattercarpet": [
           {
            "marker": {
             "colorbar": {
              "outlinewidth": 0,
              "ticks": ""
             }
            },
            "type": "scattercarpet"
           }
          ],
          "scattergeo": [
           {
            "marker": {
             "colorbar": {
              "outlinewidth": 0,
              "ticks": ""
             }
            },
            "type": "scattergeo"
           }
          ],
          "scattergl": [
           {
            "marker": {
             "colorbar": {
              "outlinewidth": 0,
              "ticks": ""
             }
            },
            "type": "scattergl"
           }
          ],
          "scattermapbox": [
           {
            "marker": {
             "colorbar": {
              "outlinewidth": 0,
              "ticks": ""
             }
            },
            "type": "scattermapbox"
           }
          ],
          "scatterpolar": [
           {
            "marker": {
             "colorbar": {
              "outlinewidth": 0,
              "ticks": ""
             }
            },
            "type": "scatterpolar"
           }
          ],
          "scatterpolargl": [
           {
            "marker": {
             "colorbar": {
              "outlinewidth": 0,
              "ticks": ""
             }
            },
            "type": "scatterpolargl"
           }
          ],
          "scatterternary": [
           {
            "marker": {
             "colorbar": {
              "outlinewidth": 0,
              "ticks": ""
             }
            },
            "type": "scatterternary"
           }
          ],
          "surface": [
           {
            "colorbar": {
             "outlinewidth": 0,
             "ticks": ""
            },
            "colorscale": [
             [
              0,
              "#0d0887"
             ],
             [
              0.1111111111111111,
              "#46039f"
             ],
             [
              0.2222222222222222,
              "#7201a8"
             ],
             [
              0.3333333333333333,
              "#9c179e"
             ],
             [
              0.4444444444444444,
              "#bd3786"
             ],
             [
              0.5555555555555556,
              "#d8576b"
             ],
             [
              0.6666666666666666,
              "#ed7953"
             ],
             [
              0.7777777777777778,
              "#fb9f3a"
             ],
             [
              0.8888888888888888,
              "#fdca26"
             ],
             [
              1,
              "#f0f921"
             ]
            ],
            "type": "surface"
           }
          ],
          "table": [
           {
            "cells": {
             "fill": {
              "color": "#EBF0F8"
             },
             "line": {
              "color": "white"
             }
            },
            "header": {
             "fill": {
              "color": "#C8D4E3"
             },
             "line": {
              "color": "white"
             }
            },
            "type": "table"
           }
          ]
         },
         "layout": {
          "annotationdefaults": {
           "arrowcolor": "#2a3f5f",
           "arrowhead": 0,
           "arrowwidth": 1
          },
          "autotypenumbers": "strict",
          "coloraxis": {
           "colorbar": {
            "outlinewidth": 0,
            "ticks": ""
           }
          },
          "colorscale": {
           "diverging": [
            [
             0,
             "#8e0152"
            ],
            [
             0.1,
             "#c51b7d"
            ],
            [
             0.2,
             "#de77ae"
            ],
            [
             0.3,
             "#f1b6da"
            ],
            [
             0.4,
             "#fde0ef"
            ],
            [
             0.5,
             "#f7f7f7"
            ],
            [
             0.6,
             "#e6f5d0"
            ],
            [
             0.7,
             "#b8e186"
            ],
            [
             0.8,
             "#7fbc41"
            ],
            [
             0.9,
             "#4d9221"
            ],
            [
             1,
             "#276419"
            ]
           ],
           "sequential": [
            [
             0,
             "#0d0887"
            ],
            [
             0.1111111111111111,
             "#46039f"
            ],
            [
             0.2222222222222222,
             "#7201a8"
            ],
            [
             0.3333333333333333,
             "#9c179e"
            ],
            [
             0.4444444444444444,
             "#bd3786"
            ],
            [
             0.5555555555555556,
             "#d8576b"
            ],
            [
             0.6666666666666666,
             "#ed7953"
            ],
            [
             0.7777777777777778,
             "#fb9f3a"
            ],
            [
             0.8888888888888888,
             "#fdca26"
            ],
            [
             1,
             "#f0f921"
            ]
           ],
           "sequentialminus": [
            [
             0,
             "#0d0887"
            ],
            [
             0.1111111111111111,
             "#46039f"
            ],
            [
             0.2222222222222222,
             "#7201a8"
            ],
            [
             0.3333333333333333,
             "#9c179e"
            ],
            [
             0.4444444444444444,
             "#bd3786"
            ],
            [
             0.5555555555555556,
             "#d8576b"
            ],
            [
             0.6666666666666666,
             "#ed7953"
            ],
            [
             0.7777777777777778,
             "#fb9f3a"
            ],
            [
             0.8888888888888888,
             "#fdca26"
            ],
            [
             1,
             "#f0f921"
            ]
           ]
          },
          "colorway": [
           "#636efa",
           "#EF553B",
           "#00cc96",
           "#ab63fa",
           "#FFA15A",
           "#19d3f3",
           "#FF6692",
           "#B6E880",
           "#FF97FF",
           "#FECB52"
          ],
          "font": {
           "color": "#2a3f5f"
          },
          "geo": {
           "bgcolor": "white",
           "lakecolor": "white",
           "landcolor": "#E5ECF6",
           "showlakes": true,
           "showland": true,
           "subunitcolor": "white"
          },
          "hoverlabel": {
           "align": "left"
          },
          "hovermode": "closest",
          "mapbox": {
           "style": "light"
          },
          "paper_bgcolor": "white",
          "plot_bgcolor": "#E5ECF6",
          "polar": {
           "angularaxis": {
            "gridcolor": "white",
            "linecolor": "white",
            "ticks": ""
           },
           "bgcolor": "#E5ECF6",
           "radialaxis": {
            "gridcolor": "white",
            "linecolor": "white",
            "ticks": ""
           }
          },
          "scene": {
           "xaxis": {
            "backgroundcolor": "#E5ECF6",
            "gridcolor": "white",
            "gridwidth": 2,
            "linecolor": "white",
            "showbackground": true,
            "ticks": "",
            "zerolinecolor": "white"
           },
           "yaxis": {
            "backgroundcolor": "#E5ECF6",
            "gridcolor": "white",
            "gridwidth": 2,
            "linecolor": "white",
            "showbackground": true,
            "ticks": "",
            "zerolinecolor": "white"
           },
           "zaxis": {
            "backgroundcolor": "#E5ECF6",
            "gridcolor": "white",
            "gridwidth": 2,
            "linecolor": "white",
            "showbackground": true,
            "ticks": "",
            "zerolinecolor": "white"
           }
          },
          "shapedefaults": {
           "line": {
            "color": "#2a3f5f"
           }
          },
          "ternary": {
           "aaxis": {
            "gridcolor": "white",
            "linecolor": "white",
            "ticks": ""
           },
           "baxis": {
            "gridcolor": "white",
            "linecolor": "white",
            "ticks": ""
           },
           "bgcolor": "#E5ECF6",
           "caxis": {
            "gridcolor": "white",
            "linecolor": "white",
            "ticks": ""
           }
          },
          "title": {
           "x": 0.05
          },
          "xaxis": {
           "automargin": true,
           "gridcolor": "white",
           "linecolor": "white",
           "ticks": "",
           "title": {
            "standoff": 15
           },
           "zerolinecolor": "white",
           "zerolinewidth": 2
          },
          "yaxis": {
           "automargin": true,
           "gridcolor": "white",
           "linecolor": "white",
           "ticks": "",
           "title": {
            "standoff": 15
           },
           "zerolinecolor": "white",
           "zerolinewidth": 2
          }
         }
        }
       }
      },
      "text/html": [
       "<div>                            <div id=\"2d9e5125-4942-4d5b-9c2b-a3dd0a644a13\" class=\"plotly-graph-div\" style=\"height:525px; width:100%;\"></div>            <script type=\"text/javascript\">                require([\"plotly\"], function(Plotly) {                    window.PLOTLYENV=window.PLOTLYENV || {};                                    if (document.getElementById(\"2d9e5125-4942-4d5b-9c2b-a3dd0a644a13\")) {                    Plotly.newPlot(                        \"2d9e5125-4942-4d5b-9c2b-a3dd0a644a13\",                        [{\"hovertemplate\":\"feature1=%{x}<br>feature2=%{y}<br>target=%{z}<extra></extra>\",\"legendgroup\":\"\",\"marker\":{\"color\":\"#636efa\",\"symbol\":\"circle\"},\"mode\":\"markers\",\"name\":\"\",\"scene\":\"scene\",\"showlegend\":false,\"x\":[-0.6320200840927469,0.8926873281167806,1.7901269400488977,1.5560466000034903,-0.12429938544216455,-0.5209238673734495,1.663827940879905,0.576568482209524,0.5324787296806581,0.6378125396564551,1.2546070195927483,-0.5334230959419289,0.5644666814033669,1.8848730864362517,-0.2251880455441879,-0.6100727029336878,0.3485274074570636,-0.9913696320820168,-0.6767449689547511,0.5087662245861427,-0.4160206805635797,0.37834248012663585,-0.7234574439920852,1.055193601495119,0.1433258421524141,-0.0971929362677539,1.0943920558979174,-0.4749340593438375,1.4404713658905113,0.49350250402704154,0.6433186821636784,1.130580245427831,-1.996763130017499,-1.0095630601520993,-1.6246863761214194,1.1580529586992108,0.1104359191938204,-1.681868850934286,1.7615779043713304,-0.5056041402114474,-1.0977228640741743,-0.23325936033770514,0.5111473770421314,1.4125145339716894,-0.15632546822317017,-0.26707081082453793,0.24536614743741933,-0.0018824109649192699,-0.22297764742479764,-0.16986443027997986,-0.5200529197064631,1.6508170127446815,-0.2154998699372169,-0.48128855515078633,1.2741950445682917,-2.1750598994937906,-0.026589812074105962,-0.22015894862035038,-0.5408108919561246,-1.1037102626333788,-0.1923128893622806,0.46577073718673,0.4427072389363201,-0.9053525465958917,-1.779993996538425,-0.45271742595725634,-0.06930338840163051,-0.6975769959668215,-1.3906886699644174,1.3279231385855073,-1.125473857221336,-0.28241425440810786,0.07081362255544293,-0.4156604506866751,0.37830795689175895,0.6355109665432679,-0.23476995884810153,0.12984539441511903,-1.3949493280817473,-0.3394643705454982,0.6333477974624188,0.6314572479112619,0.9958618093556927,0.05146302895930435,0.6698744870377081,-0.6021246973521331,0.1629516876210889,-1.9460994752772243,-0.8821870871208559,0.9473335694157707,0.23944128762622352,-1.0350432226072157,-0.7848695928156045,-0.17211399193809082,-0.728324754240545,0.5136663453491572,0.41318384687165793,0.8114168551374924,-0.6068198962226519,-0.5558613715221656,-0.5378616446755534,0.49009714191452264,-0.6419742077835698,0.8718349489539602,-0.522088318677494,-0.10128478329305053,1.636905551779324,0.5133560008653151,-0.652580890788667,0.25787510119298745,-0.2271107864979519,1.9868789685332473,0.3726528973045371,2.8387631112692464,-1.8247862783668634,-0.2703647673005159,0.2690405880680026,0.7705863328272266,-1.0013072353564771,0.1341587856656519,-0.951368208106251,0.5839481704447299,0.3749978554115002,1.4530052305831436,-0.18015414710094116,-0.47206083009033095,0.49467770799603794,-0.3289133661379925,2.0646779433562585,0.9943785780985754,-0.2569029281651903,-1.3622713898603995,0.6542835635539797,0.21417151597809558,-0.40595721633507204,0.4326302043867961,-0.8923890456555071,-1.995795614987088,-0.7536599774869728,0.023700363750863405,1.212935461369243,1.0002542683330031,-0.8640789202529039,0.7833007828675699,0.1484684871647641,0.6343104099739411,0.7649418696162053,-1.1700662464074991,0.6850970690937183,1.221980382483001],\"y\":[-0.5534643618833314,-0.5856934133044892,-0.5021428741856099,-1.7014591757478008,-0.11656406322944864,0.18156367187671854,0.8313437821233035,-0.2588995172496308,0.5367059610563912,0.37903007723523907,-0.09639900904522959,0.6186088161029945,-1.3675441501702794,-0.41849469596064975,1.8517737448766447,-1.0685275687387958,1.142857433768415,0.5036052751661545,-0.9438487232162088,-1.2943644968177277,-0.2913498968805121,0.33250650417075767,0.4577900482799648,-0.3136776852000658,0.9376412273580447,-1.0951313379716106,0.5811124469688534,2.3321878143906525,0.7817074274271066,0.33059924929268286,0.5601231178383516,1.9413279081238293,-1.1886576192213607,0.643287399797883,0.8519549782006209,0.060775012005469004,0.24072448948705172,0.6781002276274318,-0.18638097710750115,1.8567330534580577,0.032211159414719456,-0.9831518724560008,0.23317736211970463,-0.9439373359268919,-0.645516982776896,0.7621823602334201,-1.2013481595912603,-0.39465846015619793,-1.370063606547382,-0.28249843674595704,0.8495575966593721,0.5370204577894644,-0.3825381679506041,-0.6086073368239917,-0.4466851876178355,0.6989528232737979,0.37074036015896866,-0.19188128345861205,0.6754601055181182,-0.28885012263143955,1.1123140324257308,-1.2823656886054784,0.2087668098111842,-1.0979768388831799,-1.3257211314776594,-0.7409567109696241,-1.049014126698304,-0.4539137914181119,0.00560829704252533,0.6991595154006366,0.20986356931532085,-2.5202177671064256,-0.3406574450500101,0.5385743298569815,-0.9421758289448295,0.2470559978313531,-0.9711503927855643,-1.162089060128667,0.24732557664150773,-0.33905130100498143,0.019093402590439425,-0.6083893497709615,1.228157979359101,-0.6063019615511918,0.38855643878173773,0.13488678548262228,-0.3414360129093819,-0.22474600660910976,-0.27372861875825566,0.1477605566591235,0.6305593512326363,0.5475182288244892,-1.4493461721909369,0.34889614835673194,-0.021025037344698985,-0.5977957380568832,-0.29930732400526844,-0.6488360416312252,-0.8124394349989847,1.2487005911309201,1.6740012530267123,0.4097662244917181,-0.7970021565677538,0.6495142763152484,1.0185143236881955,0.09401584180967053,0.19692800699042345,-0.19295412601301884,-0.25368944739703303,-0.3576242849267738,-0.5447981695685429,0.9625848995732676,1.280306686134405,-1.4041653054029963,-1.3005863706812908,-1.6466383912052824,1.1603473066138723,0.32509793290807154,0.21874774231892558,1.0885050967348093,0.8674245082128972,-1.7196599818425136,0.09915687104216211,-1.5648947265291566,1.106702532277723,-1.0651630444805813,-0.13420670152265707,0.5487713793744607,0.24777480049437609,1.0981842644985726,0.044391117814991624,0.8691898300641218,1.2494490444161392,-0.4640464648060199,0.477067553858406,-0.6664579622255081,-1.5218354642533678,-1.513543045968347,-0.3563276668196838,0.08190205348027588,-1.0840917380721484,-0.07347352444949069,-0.17457778502985857,-1.3690151571111202,-0.7068764645409387,0.9116913629180856,-0.40074090850516125,-0.8618279851622526,-0.65836639852681,0.12970070254085367],\"z\":[-72.61696513418141,-64.92060519811305,-0.9162225201679988,-106.29363394978489,38.86425208732275,14.392662269215771,93.8920998913288,-69.52989375998764,54.25523893385006,10.245356215626877,66.04737783644785,41.46403214973662,-109.92424896869142,74.02039713000431,122.74688283379083,-151.41164298304403,109.00721740575953,17.376243444142855,-143.41798470118064,-131.69966021163418,-63.52818321554637,44.827995470448904,-18.424776152991665,33.77494225613364,134.52370266025645,-35.58684430237383,17.837213085709735,195.8823619484371,142.61538605252207,-53.367170325949125,30.68140237604475,235.1754534754435,-162.86712099436525,36.66257015838088,8.958938351343654,20.650447079078248,62.11825080015513,-7.288426299779124,34.30550422494863,168.61535819152368,-64.378495155143,-113.50118508262491,22.317127228069456,-89.01378146662074,-56.859797154173066,33.136148869079086,-78.66897982221643,-31.72439371157349,-28.643604317943797,-16.136157044322104,13.282951641433854,68.05391582979776,32.784065651192336,-37.14433958266338,44.90646964503783,-74.77112240072012,28.49437107859473,29.094238461805322,-6.996931243314496,-113.1561866958439,172.65904991043925,-38.464414633237546,51.83263165769718,-138.93306449602647,-153.12707676057016,-21.711191572901363,-129.2425821666982,-32.49570091404193,-17.402510858858285,31.07882008600066,-3.265058973637853,-212.06750708713022,21.89708404100217,-47.33220884081979,-92.90000362355875,13.34103830697467,-175.74202196202248,-39.70636274690615,-78.44264307521526,-53.69131999692373,55.392741322437644,45.68710681803884,124.87708380248333,-56.88892248094669,50.69880774710353,-55.30909115147412,-10.887279303563433,-152.00150808109305,-113.0199283350733,42.21791450374586,-47.28802591456778,-56.847835485319166,-169.63035930218348,26.170177508342658,-12.401476955125009,34.682247214697526,-24.010005890536554,7.10229354194761,-22.818216495334326,5.0661857313671845,142.0311813741061,79.01147319949051,-68.7367266291402,29.30751934233428,127.45513622454169,52.09265254273015,52.1880098891144,-31.106971352323953,-117.67062100080805,28.02612212419278,-12.386498570302678,153.6954627965959,45.121545604536564,17.6465792138466,-199.05895159560055,-171.09911169426732,63.564949620537206,13.752337008283689,-68.55553248967207,89.27987377387448,63.11550558212354,-47.49422949087723,55.669314042866326,-87.40689493444025,47.6819477578654,-144.9980183777094,-29.09103525423742,-51.829311557879116,114.74591296025636,78.49842517739114,-12.51535132324836,68.51379680095452,69.0491711809018,-29.090920504427206,48.66587554896375,-36.7147582112989,-143.65920298378126,-154.8934641541474,-90.10855942495164,31.482848610611057,-55.60635014642099,-15.615521297447629,-136.48672880963682,-14.622231916979658,-51.983015946724265,57.33004978953051,-23.869934474013867,-124.27289584451418,27.82051203552078,59.815980668902505],\"type\":\"scatter3d\"}],                        {\"template\":{\"data\":{\"bar\":[{\"error_x\":{\"color\":\"#2a3f5f\"},\"error_y\":{\"color\":\"#2a3f5f\"},\"marker\":{\"line\":{\"color\":\"#E5ECF6\",\"width\":0.5},\"pattern\":{\"fillmode\":\"overlay\",\"size\":10,\"solidity\":0.2}},\"type\":\"bar\"}],\"barpolar\":[{\"marker\":{\"line\":{\"color\":\"#E5ECF6\",\"width\":0.5},\"pattern\":{\"fillmode\":\"overlay\",\"size\":10,\"solidity\":0.2}},\"type\":\"barpolar\"}],\"carpet\":[{\"aaxis\":{\"endlinecolor\":\"#2a3f5f\",\"gridcolor\":\"white\",\"linecolor\":\"white\",\"minorgridcolor\":\"white\",\"startlinecolor\":\"#2a3f5f\"},\"baxis\":{\"endlinecolor\":\"#2a3f5f\",\"gridcolor\":\"white\",\"linecolor\":\"white\",\"minorgridcolor\":\"white\",\"startlinecolor\":\"#2a3f5f\"},\"type\":\"carpet\"}],\"choropleth\":[{\"colorbar\":{\"outlinewidth\":0,\"ticks\":\"\"},\"type\":\"choropleth\"}],\"contour\":[{\"colorbar\":{\"outlinewidth\":0,\"ticks\":\"\"},\"colorscale\":[[0.0,\"#0d0887\"],[0.1111111111111111,\"#46039f\"],[0.2222222222222222,\"#7201a8\"],[0.3333333333333333,\"#9c179e\"],[0.4444444444444444,\"#bd3786\"],[0.5555555555555556,\"#d8576b\"],[0.6666666666666666,\"#ed7953\"],[0.7777777777777778,\"#fb9f3a\"],[0.8888888888888888,\"#fdca26\"],[1.0,\"#f0f921\"]],\"type\":\"contour\"}],\"contourcarpet\":[{\"colorbar\":{\"outlinewidth\":0,\"ticks\":\"\"},\"type\":\"contourcarpet\"}],\"heatmap\":[{\"colorbar\":{\"outlinewidth\":0,\"ticks\":\"\"},\"colorscale\":[[0.0,\"#0d0887\"],[0.1111111111111111,\"#46039f\"],[0.2222222222222222,\"#7201a8\"],[0.3333333333333333,\"#9c179e\"],[0.4444444444444444,\"#bd3786\"],[0.5555555555555556,\"#d8576b\"],[0.6666666666666666,\"#ed7953\"],[0.7777777777777778,\"#fb9f3a\"],[0.8888888888888888,\"#fdca26\"],[1.0,\"#f0f921\"]],\"type\":\"heatmap\"}],\"heatmapgl\":[{\"colorbar\":{\"outlinewidth\":0,\"ticks\":\"\"},\"colorscale\":[[0.0,\"#0d0887\"],[0.1111111111111111,\"#46039f\"],[0.2222222222222222,\"#7201a8\"],[0.3333333333333333,\"#9c179e\"],[0.4444444444444444,\"#bd3786\"],[0.5555555555555556,\"#d8576b\"],[0.6666666666666666,\"#ed7953\"],[0.7777777777777778,\"#fb9f3a\"],[0.8888888888888888,\"#fdca26\"],[1.0,\"#f0f921\"]],\"type\":\"heatmapgl\"}],\"histogram\":[{\"marker\":{\"pattern\":{\"fillmode\":\"overlay\",\"size\":10,\"solidity\":0.2}},\"type\":\"histogram\"}],\"histogram2d\":[{\"colorbar\":{\"outlinewidth\":0,\"ticks\":\"\"},\"colorscale\":[[0.0,\"#0d0887\"],[0.1111111111111111,\"#46039f\"],[0.2222222222222222,\"#7201a8\"],[0.3333333333333333,\"#9c179e\"],[0.4444444444444444,\"#bd3786\"],[0.5555555555555556,\"#d8576b\"],[0.6666666666666666,\"#ed7953\"],[0.7777777777777778,\"#fb9f3a\"],[0.8888888888888888,\"#fdca26\"],[1.0,\"#f0f921\"]],\"type\":\"histogram2d\"}],\"histogram2dcontour\":[{\"colorbar\":{\"outlinewidth\":0,\"ticks\":\"\"},\"colorscale\":[[0.0,\"#0d0887\"],[0.1111111111111111,\"#46039f\"],[0.2222222222222222,\"#7201a8\"],[0.3333333333333333,\"#9c179e\"],[0.4444444444444444,\"#bd3786\"],[0.5555555555555556,\"#d8576b\"],[0.6666666666666666,\"#ed7953\"],[0.7777777777777778,\"#fb9f3a\"],[0.8888888888888888,\"#fdca26\"],[1.0,\"#f0f921\"]],\"type\":\"histogram2dcontour\"}],\"mesh3d\":[{\"colorbar\":{\"outlinewidth\":0,\"ticks\":\"\"},\"type\":\"mesh3d\"}],\"parcoords\":[{\"line\":{\"colorbar\":{\"outlinewidth\":0,\"ticks\":\"\"}},\"type\":\"parcoords\"}],\"pie\":[{\"automargin\":true,\"type\":\"pie\"}],\"scatter\":[{\"marker\":{\"colorbar\":{\"outlinewidth\":0,\"ticks\":\"\"}},\"type\":\"scatter\"}],\"scatter3d\":[{\"line\":{\"colorbar\":{\"outlinewidth\":0,\"ticks\":\"\"}},\"marker\":{\"colorbar\":{\"outlinewidth\":0,\"ticks\":\"\"}},\"type\":\"scatter3d\"}],\"scattercarpet\":[{\"marker\":{\"colorbar\":{\"outlinewidth\":0,\"ticks\":\"\"}},\"type\":\"scattercarpet\"}],\"scattergeo\":[{\"marker\":{\"colorbar\":{\"outlinewidth\":0,\"ticks\":\"\"}},\"type\":\"scattergeo\"}],\"scattergl\":[{\"marker\":{\"colorbar\":{\"outlinewidth\":0,\"ticks\":\"\"}},\"type\":\"scattergl\"}],\"scattermapbox\":[{\"marker\":{\"colorbar\":{\"outlinewidth\":0,\"ticks\":\"\"}},\"type\":\"scattermapbox\"}],\"scatterpolar\":[{\"marker\":{\"colorbar\":{\"outlinewidth\":0,\"ticks\":\"\"}},\"type\":\"scatterpolar\"}],\"scatterpolargl\":[{\"marker\":{\"colorbar\":{\"outlinewidth\":0,\"ticks\":\"\"}},\"type\":\"scatterpolargl\"}],\"scatterternary\":[{\"marker\":{\"colorbar\":{\"outlinewidth\":0,\"ticks\":\"\"}},\"type\":\"scatterternary\"}],\"surface\":[{\"colorbar\":{\"outlinewidth\":0,\"ticks\":\"\"},\"colorscale\":[[0.0,\"#0d0887\"],[0.1111111111111111,\"#46039f\"],[0.2222222222222222,\"#7201a8\"],[0.3333333333333333,\"#9c179e\"],[0.4444444444444444,\"#bd3786\"],[0.5555555555555556,\"#d8576b\"],[0.6666666666666666,\"#ed7953\"],[0.7777777777777778,\"#fb9f3a\"],[0.8888888888888888,\"#fdca26\"],[1.0,\"#f0f921\"]],\"type\":\"surface\"}],\"table\":[{\"cells\":{\"fill\":{\"color\":\"#EBF0F8\"},\"line\":{\"color\":\"white\"}},\"header\":{\"fill\":{\"color\":\"#C8D4E3\"},\"line\":{\"color\":\"white\"}},\"type\":\"table\"}]},\"layout\":{\"annotationdefaults\":{\"arrowcolor\":\"#2a3f5f\",\"arrowhead\":0,\"arrowwidth\":1},\"autotypenumbers\":\"strict\",\"coloraxis\":{\"colorbar\":{\"outlinewidth\":0,\"ticks\":\"\"}},\"colorscale\":{\"diverging\":[[0,\"#8e0152\"],[0.1,\"#c51b7d\"],[0.2,\"#de77ae\"],[0.3,\"#f1b6da\"],[0.4,\"#fde0ef\"],[0.5,\"#f7f7f7\"],[0.6,\"#e6f5d0\"],[0.7,\"#b8e186\"],[0.8,\"#7fbc41\"],[0.9,\"#4d9221\"],[1,\"#276419\"]],\"sequential\":[[0.0,\"#0d0887\"],[0.1111111111111111,\"#46039f\"],[0.2222222222222222,\"#7201a8\"],[0.3333333333333333,\"#9c179e\"],[0.4444444444444444,\"#bd3786\"],[0.5555555555555556,\"#d8576b\"],[0.6666666666666666,\"#ed7953\"],[0.7777777777777778,\"#fb9f3a\"],[0.8888888888888888,\"#fdca26\"],[1.0,\"#f0f921\"]],\"sequentialminus\":[[0.0,\"#0d0887\"],[0.1111111111111111,\"#46039f\"],[0.2222222222222222,\"#7201a8\"],[0.3333333333333333,\"#9c179e\"],[0.4444444444444444,\"#bd3786\"],[0.5555555555555556,\"#d8576b\"],[0.6666666666666666,\"#ed7953\"],[0.7777777777777778,\"#fb9f3a\"],[0.8888888888888888,\"#fdca26\"],[1.0,\"#f0f921\"]]},\"colorway\":[\"#636efa\",\"#EF553B\",\"#00cc96\",\"#ab63fa\",\"#FFA15A\",\"#19d3f3\",\"#FF6692\",\"#B6E880\",\"#FF97FF\",\"#FECB52\"],\"font\":{\"color\":\"#2a3f5f\"},\"geo\":{\"bgcolor\":\"white\",\"lakecolor\":\"white\",\"landcolor\":\"#E5ECF6\",\"showlakes\":true,\"showland\":true,\"subunitcolor\":\"white\"},\"hoverlabel\":{\"align\":\"left\"},\"hovermode\":\"closest\",\"mapbox\":{\"style\":\"light\"},\"paper_bgcolor\":\"white\",\"plot_bgcolor\":\"#E5ECF6\",\"polar\":{\"angularaxis\":{\"gridcolor\":\"white\",\"linecolor\":\"white\",\"ticks\":\"\"},\"bgcolor\":\"#E5ECF6\",\"radialaxis\":{\"gridcolor\":\"white\",\"linecolor\":\"white\",\"ticks\":\"\"}},\"scene\":{\"xaxis\":{\"backgroundcolor\":\"#E5ECF6\",\"gridcolor\":\"white\",\"gridwidth\":2,\"linecolor\":\"white\",\"showbackground\":true,\"ticks\":\"\",\"zerolinecolor\":\"white\"},\"yaxis\":{\"backgroundcolor\":\"#E5ECF6\",\"gridcolor\":\"white\",\"gridwidth\":2,\"linecolor\":\"white\",\"showbackground\":true,\"ticks\":\"\",\"zerolinecolor\":\"white\"},\"zaxis\":{\"backgroundcolor\":\"#E5ECF6\",\"gridcolor\":\"white\",\"gridwidth\":2,\"linecolor\":\"white\",\"showbackground\":true,\"ticks\":\"\",\"zerolinecolor\":\"white\"}},\"shapedefaults\":{\"line\":{\"color\":\"#2a3f5f\"}},\"ternary\":{\"aaxis\":{\"gridcolor\":\"white\",\"linecolor\":\"white\",\"ticks\":\"\"},\"baxis\":{\"gridcolor\":\"white\",\"linecolor\":\"white\",\"ticks\":\"\"},\"bgcolor\":\"#E5ECF6\",\"caxis\":{\"gridcolor\":\"white\",\"linecolor\":\"white\",\"ticks\":\"\"}},\"title\":{\"x\":0.05},\"xaxis\":{\"automargin\":true,\"gridcolor\":\"white\",\"linecolor\":\"white\",\"ticks\":\"\",\"title\":{\"standoff\":15},\"zerolinecolor\":\"white\",\"zerolinewidth\":2},\"yaxis\":{\"automargin\":true,\"gridcolor\":\"white\",\"linecolor\":\"white\",\"ticks\":\"\",\"title\":{\"standoff\":15},\"zerolinecolor\":\"white\",\"zerolinewidth\":2}}},\"scene\":{\"domain\":{\"x\":[0.0,1.0],\"y\":[0.0,1.0]},\"xaxis\":{\"title\":{\"text\":\"feature1\"}},\"yaxis\":{\"title\":{\"text\":\"feature2\"}},\"zaxis\":{\"title\":{\"text\":\"target\"}}},\"legend\":{\"tracegroupgap\":0},\"margin\":{\"t\":60}},                        {\"responsive\": true}                    ).then(function(){\n",
       "                            \n",
       "var gd = document.getElementById('2d9e5125-4942-4d5b-9c2b-a3dd0a644a13');\n",
       "var x = new MutationObserver(function (mutations, observer) {{\n",
       "        var display = window.getComputedStyle(gd).display;\n",
       "        if (!display || display === 'none') {{\n",
       "            console.log([gd, 'removed!']);\n",
       "            Plotly.purge(gd);\n",
       "            observer.disconnect();\n",
       "        }}\n",
       "}});\n",
       "\n",
       "// Listen for the removal of the full notebook cells\n",
       "var notebookContainer = gd.closest('#notebook-container');\n",
       "if (notebookContainer) {{\n",
       "    x.observe(notebookContainer, {childList: true});\n",
       "}}\n",
       "\n",
       "// Listen for the clearing of the current output cell\n",
       "var outputEl = gd.closest('.output');\n",
       "if (outputEl) {{\n",
       "    x.observe(outputEl, {childList: true});\n",
       "}}\n",
       "\n",
       "                        })                };                });            </script>        </div>"
      ]
     },
     "metadata": {},
     "output_type": "display_data"
    }
   ],
   "source": [
    "import plotly.express as px\n",
    "px.scatter_3d(df,x=\"feature1\",y=\"feature2\",z=\"target\")"
   ]
  },
  {
   "cell_type": "code",
   "execution_count": 68,
   "id": "99675599",
   "metadata": {},
   "outputs": [],
   "source": [
    "from sklearn.model_selection import train_test_split\n",
    "X_train, X_test, y_train, y_test = train_test_split(X,y, test_size=0.15,random_state=42)"
   ]
  },
  {
   "cell_type": "code",
   "execution_count": 69,
   "id": "98db51d1",
   "metadata": {},
   "outputs": [
    {
     "data": {
      "text/plain": [
       "(127, 2)"
      ]
     },
     "execution_count": 69,
     "metadata": {},
     "output_type": "execute_result"
    }
   ],
   "source": [
    "X_train.shape"
   ]
  },
  {
   "cell_type": "code",
   "execution_count": 70,
   "id": "838f0d81",
   "metadata": {},
   "outputs": [
    {
     "data": {
      "text/plain": [
       "(127,)"
      ]
     },
     "execution_count": 70,
     "metadata": {},
     "output_type": "execute_result"
    }
   ],
   "source": [
    "y_train.shape"
   ]
  },
  {
   "cell_type": "code",
   "execution_count": 71,
   "id": "369d2190",
   "metadata": {},
   "outputs": [],
   "source": [
    "model2=LinearRegression()"
   ]
  },
  {
   "cell_type": "code",
   "execution_count": 72,
   "id": "f09fd22d",
   "metadata": {},
   "outputs": [
    {
     "data": {
      "text/plain": [
       "LinearRegression()"
      ]
     },
     "execution_count": 72,
     "metadata": {},
     "output_type": "execute_result"
    }
   ],
   "source": [
    "model2.fit(X_train,y_train)"
   ]
  },
  {
   "cell_type": "code",
   "execution_count": 73,
   "id": "23227854",
   "metadata": {},
   "outputs": [
    {
     "data": {
      "text/plain": [
       "0.7710423566405666"
      ]
     },
     "execution_count": 73,
     "metadata": {},
     "output_type": "execute_result"
    }
   ],
   "source": [
    "model2.score(X_train,y_train)"
   ]
  },
  {
   "cell_type": "code",
   "execution_count": 74,
   "id": "ad867efe",
   "metadata": {},
   "outputs": [],
   "source": [
    "y_pred2=model2.predict(X_test)"
   ]
  },
  {
   "cell_type": "code",
   "execution_count": 75,
   "id": "9e8c2709",
   "metadata": {},
   "outputs": [
    {
     "data": {
      "text/plain": [
       "array([  22.44878267,  -96.97928092,  -23.17791065,  -35.83430483,\n",
       "        -82.415008  ,  184.20530379, -166.61551036,   30.31164003,\n",
       "        -53.55052917,  126.40838083,  -50.59694833,  -81.74194581,\n",
       "         20.16111149,   50.17714774,  -78.4199169 ,   24.63502871,\n",
       "         53.94923828,   99.74582757,  -31.7049704 ,  115.1665859 ,\n",
       "         41.18080809,   26.45774019,   82.25338626])"
      ]
     },
     "execution_count": 75,
     "metadata": {},
     "output_type": "execute_result"
    }
   ],
   "source": [
    "y_pred2\n",
    "#PREDICTED VALUES"
   ]
  },
  {
   "cell_type": "code",
   "execution_count": 79,
   "id": "47639956",
   "metadata": {},
   "outputs": [
    {
     "data": {
      "text/plain": [
       "array([ -47.33220884, -143.4179847 ,  -68.55553249,  -78.44264308,\n",
       "       -175.74202196,  235.17545348, -153.12707676,  -15.6155213 ,\n",
       "        -17.40251086,  124.8770838 ,  -12.38649857, -109.92424897,\n",
       "         62.1182508 ,   10.24535622, -131.69966021,   28.49437108,\n",
       "        127.45513622,   31.07882009,  -74.7711224 ,   69.04917118,\n",
       "        -53.36717033,  -51.82931156,   17.83721309])"
      ]
     },
     "execution_count": 79,
     "metadata": {},
     "output_type": "execute_result"
    }
   ],
   "source": [
    "y_test\n",
    "\n",
    "#ACTUAL VALUE"
   ]
  },
  {
   "cell_type": "code",
   "execution_count": 76,
   "id": "00198de7",
   "metadata": {},
   "outputs": [
    {
     "data": {
      "text/plain": [
       "0.6917754534936708"
      ]
     },
     "execution_count": 76,
     "metadata": {},
     "output_type": "execute_result"
    }
   ],
   "source": [
    "r2_score(y_test,y_pred2)"
   ]
  },
  {
   "cell_type": "code",
   "execution_count": 77,
   "id": "ede846e5",
   "metadata": {},
   "outputs": [
    {
     "data": {
      "text/plain": [
       "array([37.52102443, 73.95453327])"
      ]
     },
     "execution_count": 77,
     "metadata": {},
     "output_type": "execute_result"
    }
   ],
   "source": [
    "model2.coef_"
   ]
  },
  {
   "cell_type": "code",
   "execution_count": 78,
   "id": "48f3fcb0",
   "metadata": {},
   "outputs": [
    {
     "data": {
      "text/plain": [
       "-1.785224599055515"
      ]
     },
     "execution_count": 78,
     "metadata": {},
     "output_type": "execute_result"
    }
   ],
   "source": [
    "model2.intercept_"
   ]
  },
  {
   "cell_type": "code",
   "execution_count": null,
   "id": "68b62413",
   "metadata": {},
   "outputs": [],
   "source": [
    "y=m1*x1+c\n",
    "\n",
    "y=37.52102443 * x1 +73.95453327 * x2 +-1.785224599055515"
   ]
  },
  {
   "cell_type": "code",
   "execution_count": null,
   "id": "1cc5ff1f",
   "metadata": {},
   "outputs": [],
   "source": [
    "y_test this is my actual value\n",
    "\n",
    "y_prd this is my predicted value"
   ]
  },
  {
   "cell_type": "code",
   "execution_count": 80,
   "id": "951fd7ac",
   "metadata": {},
   "outputs": [],
   "source": [
    "from sklearn.metrics import mean_absolute_error,mean_squared_error"
   ]
  },
  {
   "cell_type": "code",
   "execution_count": 81,
   "id": "38b6ec3d",
   "metadata": {},
   "outputs": [
    {
     "data": {
      "text/plain": [
       "2938.650390631477"
      ]
     },
     "execution_count": 81,
     "metadata": {},
     "output_type": "execute_result"
    }
   ],
   "source": [
    "mean_squared_error(y_test,y_pred2)\n",
    "\n",
    "#VALIDATION LOSS"
   ]
  },
  {
   "cell_type": "code",
   "execution_count": 82,
   "id": "188e6efe",
   "metadata": {},
   "outputs": [
    {
     "data": {
      "text/plain": [
       "48.67939887891072"
      ]
     },
     "execution_count": 82,
     "metadata": {},
     "output_type": "execute_result"
    }
   ],
   "source": [
    "mean_absolute_error(y_test,y_pred2)"
   ]
  },
  {
   "cell_type": "code",
   "execution_count": null,
   "id": "911110b9",
   "metadata": {},
   "outputs": [],
   "source": []
  },
  {
   "cell_type": "code",
   "execution_count": 83,
   "id": "f0e1e782",
   "metadata": {},
   "outputs": [],
   "source": [
    "from sklearn.datasets import load_diabetes"
   ]
  },
  {
   "cell_type": "code",
   "execution_count": 84,
   "id": "56844836",
   "metadata": {},
   "outputs": [],
   "source": [
    "data=load_diabetes()"
   ]
  },
  {
   "cell_type": "code",
   "execution_count": 90,
   "id": "2fc64102",
   "metadata": {},
   "outputs": [
    {
     "data": {
      "text/plain": [
       "{'data': array([[ 0.03807591,  0.05068012,  0.06169621, ..., -0.00259226,\n",
       "          0.01990842, -0.01764613],\n",
       "        [-0.00188202, -0.04464164, -0.05147406, ..., -0.03949338,\n",
       "         -0.06832974, -0.09220405],\n",
       "        [ 0.08529891,  0.05068012,  0.04445121, ..., -0.00259226,\n",
       "          0.00286377, -0.02593034],\n",
       "        ...,\n",
       "        [ 0.04170844,  0.05068012, -0.01590626, ..., -0.01107952,\n",
       "         -0.04687948,  0.01549073],\n",
       "        [-0.04547248, -0.04464164,  0.03906215, ...,  0.02655962,\n",
       "          0.04452837, -0.02593034],\n",
       "        [-0.04547248, -0.04464164, -0.0730303 , ..., -0.03949338,\n",
       "         -0.00421986,  0.00306441]]),\n",
       " 'target': array([151.,  75., 141., 206., 135.,  97., 138.,  63., 110., 310., 101.,\n",
       "         69., 179., 185., 118., 171., 166., 144.,  97., 168.,  68.,  49.,\n",
       "         68., 245., 184., 202., 137.,  85., 131., 283., 129.,  59., 341.,\n",
       "         87.,  65., 102., 265., 276., 252.,  90., 100.,  55.,  61.,  92.,\n",
       "        259.,  53., 190., 142.,  75., 142., 155., 225.,  59., 104., 182.,\n",
       "        128.,  52.,  37., 170., 170.,  61., 144.,  52., 128.,  71., 163.,\n",
       "        150.,  97., 160., 178.,  48., 270., 202., 111.,  85.,  42., 170.,\n",
       "        200., 252., 113., 143.,  51.,  52., 210.,  65., 141.,  55., 134.,\n",
       "         42., 111.,  98., 164.,  48.,  96.,  90., 162., 150., 279.,  92.,\n",
       "         83., 128., 102., 302., 198.,  95.,  53., 134., 144., 232.,  81.,\n",
       "        104.,  59., 246., 297., 258., 229., 275., 281., 179., 200., 200.,\n",
       "        173., 180.,  84., 121., 161.,  99., 109., 115., 268., 274., 158.,\n",
       "        107.,  83., 103., 272.,  85., 280., 336., 281., 118., 317., 235.,\n",
       "         60., 174., 259., 178., 128.,  96., 126., 288.,  88., 292.,  71.,\n",
       "        197., 186.,  25.,  84.,  96., 195.,  53., 217., 172., 131., 214.,\n",
       "         59.,  70., 220., 268., 152.,  47.,  74., 295., 101., 151., 127.,\n",
       "        237., 225.,  81., 151., 107.,  64., 138., 185., 265., 101., 137.,\n",
       "        143., 141.,  79., 292., 178.,  91., 116.,  86., 122.,  72., 129.,\n",
       "        142.,  90., 158.,  39., 196., 222., 277.,  99., 196., 202., 155.,\n",
       "         77., 191.,  70.,  73.,  49.,  65., 263., 248., 296., 214., 185.,\n",
       "         78.,  93., 252., 150.,  77., 208.,  77., 108., 160.,  53., 220.,\n",
       "        154., 259.,  90., 246., 124.,  67.,  72., 257., 262., 275., 177.,\n",
       "         71.,  47., 187., 125.,  78.,  51., 258., 215., 303., 243.,  91.,\n",
       "        150., 310., 153., 346.,  63.,  89.,  50.,  39., 103., 308., 116.,\n",
       "        145.,  74.,  45., 115., 264.,  87., 202., 127., 182., 241.,  66.,\n",
       "         94., 283.,  64., 102., 200., 265.,  94., 230., 181., 156., 233.,\n",
       "         60., 219.,  80.,  68., 332., 248.,  84., 200.,  55.,  85.,  89.,\n",
       "         31., 129.,  83., 275.,  65., 198., 236., 253., 124.,  44., 172.,\n",
       "        114., 142., 109., 180., 144., 163., 147.,  97., 220., 190., 109.,\n",
       "        191., 122., 230., 242., 248., 249., 192., 131., 237.,  78., 135.,\n",
       "        244., 199., 270., 164.,  72.,  96., 306.,  91., 214.,  95., 216.,\n",
       "        263., 178., 113., 200., 139., 139.,  88., 148.,  88., 243.,  71.,\n",
       "         77., 109., 272.,  60.,  54., 221.,  90., 311., 281., 182., 321.,\n",
       "         58., 262., 206., 233., 242., 123., 167.,  63., 197.,  71., 168.,\n",
       "        140., 217., 121., 235., 245.,  40.,  52., 104., 132.,  88.,  69.,\n",
       "        219.,  72., 201., 110.,  51., 277.,  63., 118.,  69., 273., 258.,\n",
       "         43., 198., 242., 232., 175.,  93., 168., 275., 293., 281.,  72.,\n",
       "        140., 189., 181., 209., 136., 261., 113., 131., 174., 257.,  55.,\n",
       "         84.,  42., 146., 212., 233.,  91., 111., 152., 120.,  67., 310.,\n",
       "         94., 183.,  66., 173.,  72.,  49.,  64.,  48., 178., 104., 132.,\n",
       "        220.,  57.]),\n",
       " 'frame': None,\n",
       " 'DESCR': '.. _diabetes_dataset:\\n\\nDiabetes dataset\\n----------------\\n\\nTen baseline variables, age, sex, body mass index, average blood\\npressure, and six blood serum measurements were obtained for each of n =\\n442 diabetes patients, as well as the response of interest, a\\nquantitative measure of disease progression one year after baseline.\\n\\n**Data Set Characteristics:**\\n\\n  :Number of Instances: 442\\n\\n  :Number of Attributes: First 10 columns are numeric predictive values\\n\\n  :Target: Column 11 is a quantitative measure of disease progression one year after baseline\\n\\n  :Attribute Information:\\n      - age     age in years\\n      - sex\\n      - bmi     body mass index\\n      - bp      average blood pressure\\n      - s1      tc, total serum cholesterol\\n      - s2      ldl, low-density lipoproteins\\n      - s3      hdl, high-density lipoproteins\\n      - s4      tch, total cholesterol / HDL\\n      - s5      ltg, possibly log of serum triglycerides level\\n      - s6      glu, blood sugar level\\n\\nNote: Each of these 10 feature variables have been mean centered and scaled by the standard deviation times `n_samples` (i.e. the sum of squares of each column totals 1).\\n\\nSource URL:\\nhttps://www4.stat.ncsu.edu/~boos/var.select/diabetes.html\\n\\nFor more information see:\\nBradley Efron, Trevor Hastie, Iain Johnstone and Robert Tibshirani (2004) \"Least Angle Regression,\" Annals of Statistics (with discussion), 407-499.\\n(https://web.stanford.edu/~hastie/Papers/LARS/LeastAngle_2002.pdf)',\n",
       " 'feature_names': ['age',\n",
       "  'sex',\n",
       "  'bmi',\n",
       "  'bp',\n",
       "  's1',\n",
       "  's2',\n",
       "  's3',\n",
       "  's4',\n",
       "  's5',\n",
       "  's6'],\n",
       " 'data_filename': 'diabetes_data.csv.gz',\n",
       " 'target_filename': 'diabetes_target.csv.gz',\n",
       " 'data_module': 'sklearn.datasets.data'}"
      ]
     },
     "execution_count": 90,
     "metadata": {},
     "output_type": "execute_result"
    }
   ],
   "source": [
    "data"
   ]
  },
  {
   "cell_type": "code",
   "execution_count": 85,
   "id": "05e3a2ae",
   "metadata": {},
   "outputs": [
    {
     "name": "stdout",
     "output_type": "stream",
     "text": [
      ".. _diabetes_dataset:\n",
      "\n",
      "Diabetes dataset\n",
      "----------------\n",
      "\n",
      "Ten baseline variables, age, sex, body mass index, average blood\n",
      "pressure, and six blood serum measurements were obtained for each of n =\n",
      "442 diabetes patients, as well as the response of interest, a\n",
      "quantitative measure of disease progression one year after baseline.\n",
      "\n",
      "**Data Set Characteristics:**\n",
      "\n",
      "  :Number of Instances: 442\n",
      "\n",
      "  :Number of Attributes: First 10 columns are numeric predictive values\n",
      "\n",
      "  :Target: Column 11 is a quantitative measure of disease progression one year after baseline\n",
      "\n",
      "  :Attribute Information:\n",
      "      - age     age in years\n",
      "      - sex\n",
      "      - bmi     body mass index\n",
      "      - bp      average blood pressure\n",
      "      - s1      tc, total serum cholesterol\n",
      "      - s2      ldl, low-density lipoproteins\n",
      "      - s3      hdl, high-density lipoproteins\n",
      "      - s4      tch, total cholesterol / HDL\n",
      "      - s5      ltg, possibly log of serum triglycerides level\n",
      "      - s6      glu, blood sugar level\n",
      "\n",
      "Note: Each of these 10 feature variables have been mean centered and scaled by the standard deviation times `n_samples` (i.e. the sum of squares of each column totals 1).\n",
      "\n",
      "Source URL:\n",
      "https://www4.stat.ncsu.edu/~boos/var.select/diabetes.html\n",
      "\n",
      "For more information see:\n",
      "Bradley Efron, Trevor Hastie, Iain Johnstone and Robert Tibshirani (2004) \"Least Angle Regression,\" Annals of Statistics (with discussion), 407-499.\n",
      "(https://web.stanford.edu/~hastie/Papers/LARS/LeastAngle_2002.pdf)\n"
     ]
    }
   ],
   "source": [
    "print(data.DESCR)"
   ]
  },
  {
   "cell_type": "code",
   "execution_count": 88,
   "id": "d4e2df8e",
   "metadata": {},
   "outputs": [],
   "source": [
    "X=data.data"
   ]
  },
  {
   "cell_type": "code",
   "execution_count": 89,
   "id": "b79090db",
   "metadata": {},
   "outputs": [],
   "source": [
    "y=data.target"
   ]
  },
  {
   "cell_type": "code",
   "execution_count": 91,
   "id": "32ff22c8",
   "metadata": {},
   "outputs": [],
   "source": [
    "from sklearn.model_selection import train_test_split\n",
    "X_train,X_test,y_train,y_test=train_test_split(X,y,test_size=0.2,random_state=45)"
   ]
  },
  {
   "cell_type": "code",
   "execution_count": 92,
   "id": "19c44081",
   "metadata": {},
   "outputs": [
    {
     "data": {
      "text/plain": [
       "array([[-0.08906294, -0.04464164, -0.01159501, ...,  0.03430886,\n",
       "         0.02269202, -0.00936191],\n",
       "       [-0.03457486, -0.04464164, -0.0374625 , ..., -0.00259226,\n",
       "        -0.03075121, -0.07149352],\n",
       "       [ 0.01628068,  0.05068012, -0.04500719, ..., -0.03949338,\n",
       "        -0.03075121,  0.03620126],\n",
       "       ...,\n",
       "       [ 0.01628068, -0.04464164,  0.02612841, ..., -0.03395821,\n",
       "        -0.05140054, -0.02593034],\n",
       "       [-0.09632802, -0.04464164, -0.06979687, ..., -0.03949338,\n",
       "        -0.04687948, -0.07977773],\n",
       "       [ 0.08166637,  0.05068012,  0.00672779, ...,  0.09187461,\n",
       "         0.054724  ,  0.00720652]])"
      ]
     },
     "execution_count": 92,
     "metadata": {},
     "output_type": "execute_result"
    }
   ],
   "source": [
    "X_train"
   ]
  },
  {
   "cell_type": "code",
   "execution_count": 93,
   "id": "a5644bc2",
   "metadata": {},
   "outputs": [
    {
     "data": {
      "text/plain": [
       "array([206., 128., 102.,  88., 346., 268., 198.,  96.,  78.,  87., 170.,\n",
       "       292., 161., 118., 202.,  53., 103., 129.,  95., 179.,  89.,  68.,\n",
       "       151., 275.,  90., 281., 150., 111., 116.,  66., 208., 173., 262.,\n",
       "       110.,  94., 113.,  83., 190.,  96., 303.,  73., 293., 275., 197.,\n",
       "       221., 237.,  50., 142., 200., 151., 109.,  70., 152., 261., 308.,\n",
       "       195., 129., 214., 122.,  95., 259.,  63., 104., 143.,  78., 317.,\n",
       "       281., 173.,  93., 272., 129.,  77.,  75.,  87., 139., 310., 233.,\n",
       "        88., 263.,  59., 265., 199., 236., 103., 179., 210., 168., 123.,\n",
       "       128.,  47., 277.,  60.,  85., 237., 192., 230., 225., 235., 241.,\n",
       "        55., 295., 257.,  71., 110., 189., 151.,  58.,  97., 229., 120.,\n",
       "       280., 332.,  49., 201.,  54., 288., 259., 146., 154., 336., 166.,\n",
       "       258., 219.,  97., 124., 296., 275., 279.,  81., 170.,  52., 197.,\n",
       "       297., 121., 178., 170., 109.,  77.,  65.,  71.,  47., 111., 100.,\n",
       "        91.,  94., 104., 150., 152.,  44., 104.,  88., 143., 137., 102.,\n",
       "        72., 141.,  69., 214.,  67.,  60.,  88., 243.,  52., 274., 158.,\n",
       "        75.,  31., 127.,  84., 183.,  91.,  77., 167., 153.,  51.,  60.,\n",
       "       147.,  64., 181., 321., 281.,  81., 174., 233.,  55.,  55., 172.,\n",
       "        59.,  90., 283., 178., 257., 206., 118.,  48., 220.,  90., 125.,\n",
       "       200., 138., 230., 124., 276., 132.,  52., 115.,  65.,  98.,  49.,\n",
       "       182., 214., 212., 182.,  42.,  77., 177.,  57.,  84., 225., 140.,\n",
       "       168.,  99., 217., 121.,  71.,  92., 144., 258., 135., 209., 185.,\n",
       "       141., 128., 272., 277.,  59., 172., 114., 281., 311., 253.,  96.,\n",
       "       127., 181., 270., 141.,  48., 220., 109.,  42., 245.,  53., 249.,\n",
       "       252., 310.,  67.,  63., 134.,  51.,  90., 186.,  39., 310.,  74.,\n",
       "       283., 134.,  66., 273.,  70.,  72.,  61., 128.,  51., 243.,  97.,\n",
       "        42., 180.,  48.,  97., 174., 258.,  53., 142., 109.,  53., 220.,\n",
       "        71., 137.,  69.,  80.,  85., 198., 102.,  92.,  63., 178.,  90.,\n",
       "       242., 292., 187., 182., 175., 191., 150., 222.,  40., 200., 142.,\n",
       "        85., 259.,  69.,  61., 262., 138.,  93., 202.,  79., 101.,  55.,\n",
       "       219., 265., 202., 144.,  96.,  99., 104.,  72., 144., 264., 184.,\n",
       "       132.,  84.,  43.,  64., 145., 198., 263., 140.,  37., 142., 242.,\n",
       "       163., 171., 200., 235., 160., 131.,  49., 162., 341.,  52., 158.,\n",
       "       131.])"
      ]
     },
     "execution_count": 93,
     "metadata": {},
     "output_type": "execute_result"
    }
   ],
   "source": [
    "y_train"
   ]
  },
  {
   "cell_type": "code",
   "execution_count": 94,
   "id": "9f05ecbf",
   "metadata": {},
   "outputs": [],
   "source": [
    "model3=LinearRegression()"
   ]
  },
  {
   "cell_type": "code",
   "execution_count": 95,
   "id": "73ff52f0",
   "metadata": {},
   "outputs": [
    {
     "data": {
      "text/plain": [
       "LinearRegression()"
      ]
     },
     "execution_count": 95,
     "metadata": {},
     "output_type": "execute_result"
    }
   ],
   "source": [
    "model3.fit(X_train,y_train)"
   ]
  },
  {
   "cell_type": "code",
   "execution_count": 96,
   "id": "8ad43a35",
   "metadata": {},
   "outputs": [
    {
     "data": {
      "text/plain": [
       "0.5159868419842792"
      ]
     },
     "execution_count": 96,
     "metadata": {},
     "output_type": "execute_result"
    }
   ],
   "source": [
    "model3.score(X_train,y_train)"
   ]
  },
  {
   "cell_type": "code",
   "execution_count": 97,
   "id": "808dee1c",
   "metadata": {},
   "outputs": [],
   "source": [
    "# for training the score is 0.515"
   ]
  },
  {
   "cell_type": "code",
   "execution_count": 98,
   "id": "01bbe6bd",
   "metadata": {},
   "outputs": [],
   "source": [
    "y_pred3=model3.predict(X_test)"
   ]
  },
  {
   "cell_type": "code",
   "execution_count": 99,
   "id": "94795129",
   "metadata": {},
   "outputs": [
    {
     "data": {
      "text/plain": [
       "0.5188118914964638"
      ]
     },
     "execution_count": 99,
     "metadata": {},
     "output_type": "execute_result"
    }
   ],
   "source": [
    "r2_score(y_test,y_pred3)"
   ]
  },
  {
   "cell_type": "code",
   "execution_count": 100,
   "id": "e3c7cdcf",
   "metadata": {},
   "outputs": [],
   "source": [
    "# for training the score is 0.518"
   ]
  },
  {
   "cell_type": "code",
   "execution_count": null,
   "id": "c9626482",
   "metadata": {},
   "outputs": [],
   "source": []
  },
  {
   "cell_type": "code",
   "execution_count": 101,
   "id": "bfedc24b",
   "metadata": {},
   "outputs": [],
   "source": [
    " from sklearn.linear_model import Ridge"
   ]
  },
  {
   "cell_type": "code",
   "execution_count": 102,
   "id": "b0270feb",
   "metadata": {},
   "outputs": [],
   "source": [
    "model4=Ridge()"
   ]
  },
  {
   "cell_type": "code",
   "execution_count": 103,
   "id": "4cfcc0a6",
   "metadata": {},
   "outputs": [
    {
     "data": {
      "text/plain": [
       "Ridge()"
      ]
     },
     "execution_count": 103,
     "metadata": {},
     "output_type": "execute_result"
    }
   ],
   "source": [
    "model4.fit(X_train,y_train)"
   ]
  },
  {
   "cell_type": "code",
   "execution_count": 104,
   "id": "385b656b",
   "metadata": {},
   "outputs": [
    {
     "data": {
      "text/plain": [
       "0.4349377877038908"
      ]
     },
     "execution_count": 104,
     "metadata": {},
     "output_type": "execute_result"
    }
   ],
   "source": [
    "model4.score(X_train,y_train)"
   ]
  },
  {
   "cell_type": "code",
   "execution_count": 105,
   "id": "cd488a66",
   "metadata": {},
   "outputs": [],
   "source": [
    "y_pred4=model4.predict(X_test)"
   ]
  },
  {
   "cell_type": "code",
   "execution_count": 106,
   "id": "0af5ee5c",
   "metadata": {},
   "outputs": [
    {
     "data": {
      "text/plain": [
       "0.4567091857600386"
      ]
     },
     "execution_count": 106,
     "metadata": {},
     "output_type": "execute_result"
    }
   ],
   "source": [
    "r2_score(y_test,y_pred4)"
   ]
  },
  {
   "cell_type": "code",
   "execution_count": null,
   "id": "cc28417f",
   "metadata": {},
   "outputs": [],
   "source": []
  },
  {
   "cell_type": "code",
   "execution_count": 107,
   "id": "7837bff5",
   "metadata": {},
   "outputs": [],
   "source": [
    "model5=Ridge(alpha=0.01)"
   ]
  },
  {
   "cell_type": "code",
   "execution_count": 108,
   "id": "900c4aad",
   "metadata": {},
   "outputs": [
    {
     "data": {
      "text/plain": [
       "Ridge(alpha=0.01)"
      ]
     },
     "execution_count": 108,
     "metadata": {},
     "output_type": "execute_result"
    }
   ],
   "source": [
    "model5.fit(X_train,y_train)"
   ]
  },
  {
   "cell_type": "code",
   "execution_count": 109,
   "id": "100896d7",
   "metadata": {},
   "outputs": [
    {
     "data": {
      "text/plain": [
       "0.514086747116672"
      ]
     },
     "execution_count": 109,
     "metadata": {},
     "output_type": "execute_result"
    }
   ],
   "source": [
    "model5.score(X_train,y_train)"
   ]
  },
  {
   "cell_type": "code",
   "execution_count": 110,
   "id": "1721a0a2",
   "metadata": {},
   "outputs": [],
   "source": [
    "y_pred5=model5.predict(X_test)"
   ]
  },
  {
   "cell_type": "code",
   "execution_count": 111,
   "id": "3dedc9ff",
   "metadata": {},
   "outputs": [
    {
     "data": {
      "text/plain": [
       "0.5230848310448114"
      ]
     },
     "execution_count": 111,
     "metadata": {},
     "output_type": "execute_result"
    }
   ],
   "source": [
    "r2_score(y_test,y_pred5)"
   ]
  },
  {
   "cell_type": "code",
   "execution_count": 112,
   "id": "18e28101",
   "metadata": {},
   "outputs": [
    {
     "data": {
      "text/plain": [
       "array([  26.26115548, -240.40253671,  496.56914368,  326.66721626,\n",
       "       -420.97810687,  137.88839894,  -53.06426072,  194.21969372,\n",
       "        581.44815164,   94.31237978])"
      ]
     },
     "execution_count": 112,
     "metadata": {},
     "output_type": "execute_result"
    }
   ],
   "source": [
    "model5.coef_"
   ]
  },
  {
   "cell_type": "code",
   "execution_count": 113,
   "id": "4ebfce19",
   "metadata": {},
   "outputs": [
    {
     "data": {
      "text/plain": [
       "152.0832695715347"
      ]
     },
     "execution_count": 113,
     "metadata": {},
     "output_type": "execute_result"
    }
   ],
   "source": [
    "model5.intercept_"
   ]
  },
  {
   "cell_type": "code",
   "execution_count": 114,
   "id": "441825d1",
   "metadata": {},
   "outputs": [
    {
     "name": "stdout",
     "output_type": "stream",
     "text": [
      "[21.40302217]\n",
      "-1.6179656526462223\n"
     ]
    },
    {
     "data": {
      "image/png": "[encoded data removed]",
      "text/plain": [
       "<Figure size 432x288 with 1 Axes>"
      ]
     },
     "metadata": {
      "needs_background": "light"
     },
     "output_type": "display_data"
    }
   ],
   "source": [
    "X,y = make_regression(n_samples=200, n_features=1, n_targets=1,noise=15,random_state=13)\n",
    "\n",
    "X_train,X_test,y_train,y_test = train_test_split(X,y,test_size=0.2)\n",
    "\n",
    "plt.scatter(X,y)\n",
    "\n",
    "from sklearn.linear_model import LinearRegression\n",
    "\n",
    "reg = LinearRegression()\n",
    "reg.fit(X_train,y_train)\n",
    "print(reg.coef_)\n",
    "print(reg.intercept_)"
   ]
  },
  {
   "cell_type": "code",
   "execution_count": 115,
   "id": "00d18f4c",
   "metadata": {},
   "outputs": [
    {
     "data": {
      "text/plain": [
       "0.6195987192640897"
      ]
     },
     "execution_count": 115,
     "metadata": {},
     "output_type": "execute_result"
    }
   ],
   "source": [
    "reg.score(X_train,y_train)"
   ]
  },
  {
   "cell_type": "code",
   "execution_count": 116,
   "id": "110c7982",
   "metadata": {},
   "outputs": [],
   "source": [
    "pred=reg.predict(X_test)"
   ]
  },
  {
   "cell_type": "code",
   "execution_count": 117,
   "id": "30fea479",
   "metadata": {},
   "outputs": [
    {
     "data": {
      "text/plain": [
       "0.6325927614427657"
      ]
     },
     "execution_count": 117,
     "metadata": {},
     "output_type": "execute_result"
    }
   ],
   "source": [
    "r2_score(y_test,pred)"
   ]
  },
  {
   "cell_type": "code",
   "execution_count": 118,
   "id": "4c43b464",
   "metadata": {},
   "outputs": [],
   "source": [
    "from sklearn.linear_model import Lasso"
   ]
  },
  {
   "cell_type": "code",
   "execution_count": 119,
   "id": "85ab8d27",
   "metadata": {},
   "outputs": [],
   "source": [
    "model7=Lasso()"
   ]
  },
  {
   "cell_type": "code",
   "execution_count": 120,
   "id": "982b93f0",
   "metadata": {},
   "outputs": [
    {
     "name": "stdout",
     "output_type": "stream",
     "text": [
      "0.6172914362275504\n"
     ]
    },
    {
     "data": {
      "text/plain": [
       "0.6205442154351606"
      ]
     },
     "execution_count": 120,
     "metadata": {},
     "output_type": "execute_result"
    }
   ],
   "source": [
    "model7.fit(X_train,y_train)\n",
    "score=model7.score(X_train,y_train)\n",
    "print(score)\n",
    "pred=model7.predict(X_test)\n",
    "r2_score(y_test,pred)"
   ]
  },
  {
   "cell_type": "code",
   "execution_count": 121,
   "id": "2c116d10",
   "metadata": {},
   "outputs": [
    {
     "name": "stdout",
     "output_type": "stream",
     "text": [
      "[18.83816048 64.55968825]\n",
      "1.4512607561653996\n",
      "[1.45126076]\n"
     ]
    }
   ],
   "source": [
    "from sklearn.linear_model import ElasticNet\n",
    "from sklearn.datasets import make_regression\n",
    "X, y = make_regression(n_features=2, random_state=0)\n",
    "regr = ElasticNet(random_state=0)\n",
    "regr.fit(X, y)\n",
    "\n",
    "print(regr.coef_)\n",
    "\n",
    "print(regr.intercept_)\n",
    "\n",
    "print(regr.predict([[0, 0]]))\n"
   ]
  },
  {
   "cell_type": "code",
   "execution_count": 122,
   "id": "e58f9531",
   "metadata": {},
   "outputs": [
    {
     "ename": "NameError",
     "evalue": "name 'datetime' is not defined",
     "output_type": "error",
     "traceback": [
      "\u001b[1;31m---------------------------------------------------------------------------\u001b[0m",
      "\u001b[1;31mNameError\u001b[0m                                 Traceback (most recent call last)",
      "Input \u001b[1;32mIn [122]\u001b[0m, in \u001b[0;36m<cell line: 1>\u001b[1;34m()\u001b[0m\n\u001b[1;32m----> 1\u001b[0m \u001b[38;5;124mf\u001b[39m\u001b[38;5;124m\"\u001b[39m\u001b[38;5;132;01m{\u001b[39;00mdatetime\u001b[38;5;241m.\u001b[39mnow()\u001b[38;5;241m.\u001b[39mstrftime(\u001b[38;5;124m'\u001b[39m\u001b[38;5;124m%\u001b[39m\u001b[38;5;124mm_\u001b[39m\u001b[38;5;132;01m%d\u001b[39;00m\u001b[38;5;124m_\u001b[39m\u001b[38;5;124m%\u001b[39m\u001b[38;5;124mY_\u001b[39m\u001b[38;5;124m%\u001b[39m\u001b[38;5;124mH_\u001b[39m\u001b[38;5;124m%\u001b[39m\u001b[38;5;124mM_\u001b[39m\u001b[38;5;124m%\u001b[39m\u001b[38;5;124mS\u001b[39m\u001b[38;5;124m'\u001b[39m)\u001b[38;5;132;01m}\u001b[39;00m\u001b[38;5;124m.log\u001b[39m\u001b[38;5;124m\"\u001b[39m\n",
      "\u001b[1;31mNameError\u001b[0m: name 'datetime' is not defined"
     ]
    }
   ],
   "source": [
    "f\"{datetime.now().strftime('%m_%d_%Y_%H_%M_%S')}.log\""
   ]
  },
  {
   "cell_type": "code",
   "execution_count": 123,
   "id": "0f0f1209",
   "metadata": {},
   "outputs": [
    {
     "data": {
      "text/plain": [
       "'03_07_2024_14_07_30.log'"
      ]
     },
     "execution_count": 123,
     "metadata": {},
     "output_type": "execute_result"
    }
   ],
   "source": [
    "from datetime import datetime\n",
    "f\"{datetime.now().strftime('%m_%d_%Y_%H_%M_%S')}.log\""
   ]
  },
  {
   "cell_type": "code",
   "execution_count": 124,
   "id": "6ad05245",
   "metadata": {},
   "outputs": [],
   "source": [
    "import logging\n",
    "import os\n",
    "from datetime import datetime\n",
    "\n",
    "log_path=os.path.join(os.getcwd(),\"logs\")"
   ]
  },
  {
   "cell_type": "code",
   "execution_count": null,
   "id": "114085f0",
   "metadata": {},
   "outputs": [],
   "source": []
  }
 ],
 "metadata": {
  "kernelspec": {
   "display_name": "Python 3 (ipykernel)",
   "language": "python",
   "name": "python3"
  },
  "language_info": {
   "codemirror_mode": {
    "name": "ipython",
    "version": 3
   },
   "file_extension": ".py",
   "mimetype": "text/x-python",
   "name": "python",
   "nbconvert_exporter": "python",
   "pygments_lexer": "ipython3",
   "version": "3.9.12"
  }
 },
 "nbformat": 4,
 "nbformat_minor": 5
}
